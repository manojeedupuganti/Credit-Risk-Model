{
 "cells": [
  {
   "cell_type": "markdown",
   "metadata": {},
   "source": [
    "# Importing Libraries"
   ]
  },
  {
   "cell_type": "code",
   "execution_count": 16,
   "metadata": {},
   "outputs": [
    {
     "data": {
      "text/plain": [
       "'3.6.5 |Anaconda, Inc.| (default, Mar 29 2018, 13:32:41) [MSC v.1900 64 bit (AMD64)]'"
      ]
     },
     "execution_count": 16,
     "metadata": {},
     "output_type": "execute_result"
    }
   ],
   "source": [
    "# import modules\n",
    "import pandas as pd\n",
    "import numpy as np\n",
    "import matplotlib.pyplot as plt\n",
    "%matplotlib inline\n",
    "import seaborn as sns\n",
    "import sys\n",
    "sys.version"
   ]
  },
  {
   "cell_type": "markdown",
   "metadata": {},
   "source": [
    "# Loading the data"
   ]
  },
  {
   "cell_type": "code",
   "execution_count": 17,
   "metadata": {},
   "outputs": [],
   "source": [
    "# load data\n",
    "loan = pd.read_csv('loan.csv', low_memory= False)"
   ]
  },
  {
   "cell_type": "markdown",
   "metadata": {},
   "source": [
    "# Data Pre-Processing"
   ]
  },
  {
   "cell_type": "code",
   "execution_count": 19,
   "metadata": {},
   "outputs": [
    {
     "data": {
      "text/plain": [
       "id                               int64\n",
       "member_id                        int64\n",
       "loan_amnt                      float64\n",
       "funded_amnt                    float64\n",
       "funded_amnt_inv                float64\n",
       "term                            object\n",
       "int_rate                       float64\n",
       "installment                    float64\n",
       "grade                           object\n",
       "sub_grade                       object\n",
       "emp_title                       object\n",
       "emp_length                      object\n",
       "home_ownership                  object\n",
       "annual_inc                     float64\n",
       "verification_status             object\n",
       "issue_d                         object\n",
       "loan_status                     object\n",
       "pymnt_plan                      object\n",
       "url                             object\n",
       "desc                            object\n",
       "purpose                         object\n",
       "title                           object\n",
       "zip_code                        object\n",
       "addr_state                      object\n",
       "dti                            float64\n",
       "delinq_2yrs                    float64\n",
       "earliest_cr_line                object\n",
       "inq_last_6mths                 float64\n",
       "mths_since_last_delinq         float64\n",
       "mths_since_last_record         float64\n",
       "                                ...   \n",
       "collection_recovery_fee        float64\n",
       "last_pymnt_d                    object\n",
       "last_pymnt_amnt                float64\n",
       "next_pymnt_d                    object\n",
       "last_credit_pull_d              object\n",
       "collections_12_mths_ex_med     float64\n",
       "mths_since_last_major_derog    float64\n",
       "policy_code                    float64\n",
       "application_type                object\n",
       "annual_inc_joint               float64\n",
       "dti_joint                      float64\n",
       "verification_status_joint       object\n",
       "acc_now_delinq                 float64\n",
       "tot_coll_amt                   float64\n",
       "tot_cur_bal                    float64\n",
       "open_acc_6m                    float64\n",
       "open_il_6m                     float64\n",
       "open_il_12m                    float64\n",
       "open_il_24m                    float64\n",
       "mths_since_rcnt_il             float64\n",
       "total_bal_il                   float64\n",
       "il_util                        float64\n",
       "open_rv_12m                    float64\n",
       "open_rv_24m                    float64\n",
       "max_bal_bc                     float64\n",
       "all_util                       float64\n",
       "total_rev_hi_lim               float64\n",
       "inq_fi                         float64\n",
       "total_cu_tl                    float64\n",
       "inq_last_12m                   float64\n",
       "Length: 74, dtype: object"
      ]
     },
     "execution_count": 19,
     "metadata": {},
     "output_type": "execute_result"
    }
   ],
   "source": [
    "loan.dtypes"
   ]
  },
  {
   "cell_type": "code",
   "execution_count": 20,
   "metadata": {},
   "outputs": [
    {
     "data": {
      "text/plain": [
       "id                             887379\n",
       "member_id                      887379\n",
       "loan_amnt                      887379\n",
       "funded_amnt                    887379\n",
       "funded_amnt_inv                887379\n",
       "term                           887379\n",
       "int_rate                       887379\n",
       "installment                    887379\n",
       "grade                          887379\n",
       "sub_grade                      887379\n",
       "emp_title                      835917\n",
       "emp_length                     842554\n",
       "home_ownership                 887379\n",
       "annual_inc                     887375\n",
       "verification_status            887379\n",
       "issue_d                        887379\n",
       "loan_status                    887379\n",
       "pymnt_plan                     887379\n",
       "url                            887379\n",
       "desc                           126028\n",
       "purpose                        887379\n",
       "title                          887227\n",
       "zip_code                       887379\n",
       "addr_state                     887379\n",
       "dti                            887379\n",
       "delinq_2yrs                    887350\n",
       "earliest_cr_line               887350\n",
       "inq_last_6mths                 887350\n",
       "mths_since_last_delinq         433067\n",
       "mths_since_last_record         137053\n",
       "                                ...  \n",
       "collection_recovery_fee        887379\n",
       "last_pymnt_d                   869720\n",
       "last_pymnt_amnt                887379\n",
       "next_pymnt_d                   634408\n",
       "last_credit_pull_d             887326\n",
       "collections_12_mths_ex_med     887234\n",
       "mths_since_last_major_derog    221703\n",
       "policy_code                    887379\n",
       "application_type               887379\n",
       "annual_inc_joint                  511\n",
       "dti_joint                         509\n",
       "verification_status_joint         511\n",
       "acc_now_delinq                 887350\n",
       "tot_coll_amt                   817103\n",
       "tot_cur_bal                    817103\n",
       "open_acc_6m                     21372\n",
       "open_il_6m                      21372\n",
       "open_il_12m                     21372\n",
       "open_il_24m                     21372\n",
       "mths_since_rcnt_il              20810\n",
       "total_bal_il                    21372\n",
       "il_util                         18617\n",
       "open_rv_12m                     21372\n",
       "open_rv_24m                     21372\n",
       "max_bal_bc                      21372\n",
       "all_util                        21372\n",
       "total_rev_hi_lim               817103\n",
       "inq_fi                          21372\n",
       "total_cu_tl                     21372\n",
       "inq_last_12m                    21372\n",
       "Length: 74, dtype: int64"
      ]
     },
     "execution_count": 20,
     "metadata": {},
     "output_type": "execute_result"
    }
   ],
   "source": [
    "loan.count()"
   ]
  },
  {
   "cell_type": "code",
   "execution_count": 21,
   "metadata": {},
   "outputs": [
    {
     "data": {
      "text/plain": [
       "id                                  0\n",
       "member_id                           0\n",
       "loan_amnt                           0\n",
       "funded_amnt                         0\n",
       "funded_amnt_inv                     0\n",
       "term                                0\n",
       "int_rate                            0\n",
       "installment                         0\n",
       "grade                               0\n",
       "sub_grade                           0\n",
       "emp_title                       51462\n",
       "emp_length                      44825\n",
       "home_ownership                      0\n",
       "annual_inc                          4\n",
       "verification_status                 0\n",
       "issue_d                             0\n",
       "loan_status                         0\n",
       "pymnt_plan                          0\n",
       "url                                 0\n",
       "desc                           761351\n",
       "purpose                             0\n",
       "title                             152\n",
       "zip_code                            0\n",
       "addr_state                          0\n",
       "dti                                 0\n",
       "delinq_2yrs                        29\n",
       "earliest_cr_line                   29\n",
       "inq_last_6mths                     29\n",
       "mths_since_last_delinq         454312\n",
       "mths_since_last_record         750326\n",
       "                                ...  \n",
       "collection_recovery_fee             0\n",
       "last_pymnt_d                    17659\n",
       "last_pymnt_amnt                     0\n",
       "next_pymnt_d                   252971\n",
       "last_credit_pull_d                 53\n",
       "collections_12_mths_ex_med        145\n",
       "mths_since_last_major_derog    665676\n",
       "policy_code                         0\n",
       "application_type                    0\n",
       "annual_inc_joint               886868\n",
       "dti_joint                      886870\n",
       "verification_status_joint      886868\n",
       "acc_now_delinq                     29\n",
       "tot_coll_amt                    70276\n",
       "tot_cur_bal                     70276\n",
       "open_acc_6m                    866007\n",
       "open_il_6m                     866007\n",
       "open_il_12m                    866007\n",
       "open_il_24m                    866007\n",
       "mths_since_rcnt_il             866569\n",
       "total_bal_il                   866007\n",
       "il_util                        868762\n",
       "open_rv_12m                    866007\n",
       "open_rv_24m                    866007\n",
       "max_bal_bc                     866007\n",
       "all_util                       866007\n",
       "total_rev_hi_lim                70276\n",
       "inq_fi                         866007\n",
       "total_cu_tl                    866007\n",
       "inq_last_12m                   866007\n",
       "Length: 74, dtype: int64"
      ]
     },
     "execution_count": 21,
     "metadata": {},
     "output_type": "execute_result"
    }
   ],
   "source": [
    "loan.isnull().sum()"
   ]
  },
  {
   "cell_type": "code",
   "execution_count": 22,
   "metadata": {},
   "outputs": [],
   "source": [
    "null_cols = ['desc',\n",
    "'mths_since_last_delinq',\n",
    "'mths_since_last_record',\n",
    "'next_pymnt_d',\n",
    "'mths_since_last_major_derog',\n",
    "'annual_inc_joint',\n",
    "'dti_joint',\n",
    "'verification_status_joint',\n",
    "'open_acc_6m',\n",
    "'open_il_6m',\n",
    "'open_il_12m',\n",
    "'open_il_24m',\n",
    "'mths_since_rcnt_il',\n",
    "'total_bal_il',\n",
    "'il_util',\n",
    "'open_rv_12m',\n",
    "'open_rv_24m',\n",
    "'max_bal_bc',\n",
    "'all_util',\n",
    "'inq_fi',\n",
    "'total_cu_tl',\n",
    "'inq_last_12m'\n",
    "]"
   ]
  },
  {
   "cell_type": "code",
   "execution_count": 23,
   "metadata": {},
   "outputs": [],
   "source": [
    "loan.drop(null_cols, axis=1, inplace=True)"
   ]
  },
  {
   "cell_type": "markdown",
   "metadata": {},
   "source": [
    "# Exploring the target column"
   ]
  },
  {
   "cell_type": "markdown",
   "metadata": {},
   "source": [
    "The target column we are interested on is loan status"
   ]
  },
  {
   "cell_type": "code",
   "execution_count": 24,
   "metadata": {},
   "outputs": [
    {
     "data": {
      "text/plain": [
       "Current                                                601779\n",
       "Fully Paid                                             207723\n",
       "Charged Off                                             45248\n",
       "Late (31-120 days)                                      11591\n",
       "Issued                                                   8460\n",
       "In Grace Period                                          6253\n",
       "Late (16-30 days)                                        2357\n",
       "Does not meet the credit policy. Status:Fully Paid       1988\n",
       "Default                                                  1219\n",
       "Does not meet the credit policy. Status:Charged Off       761\n",
       "Name: loan_status, dtype: int64"
      ]
     },
     "execution_count": 24,
     "metadata": {},
     "output_type": "execute_result"
    }
   ],
   "source": [
    "loan.loan_status.value_counts()"
   ]
  },
  {
   "cell_type": "markdown",
   "metadata": {},
   "source": [
    "First of all, Current and Issued loans are still in progress, so they cannot be used for training. Let's split them."
   ]
  },
  {
   "cell_type": "code",
   "execution_count": 26,
   "metadata": {},
   "outputs": [],
   "source": [
    "in_progress_index = ['Current', 'Issued']"
   ]
  },
  {
   "cell_type": "code",
   "execution_count": 36,
   "metadata": {},
   "outputs": [],
   "source": [
    "def split_loan_in_progress(data):\n",
    "    \"\"\"Return table of loan in progress. It drops the loan in progress from loan data internally.\"\"\"\n",
    "    progress_bool = data.loan_status.isin(in_progress_index)\n",
    "    loan_in_progress = data[progress_bool].drop('loan_status', axis=1)\n",
    "    data.drop(list(loan_in_progress.index), axis=0, inplace=True)\n",
    "    return loan_in_progress"
   ]
  },
  {
   "cell_type": "code",
   "execution_count": 37,
   "metadata": {},
   "outputs": [],
   "source": [
    "loan_in_progress = split_loan_in_progress(loan)"
   ]
  },
  {
   "cell_type": "code",
   "execution_count": 38,
   "metadata": {},
   "outputs": [
    {
     "name": "stdout",
     "output_type": "stream",
     "text": [
      "Shape of loan_in_progress: (610239, 51)\n",
      "Shape of loan : (277140, 52)\n"
     ]
    }
   ],
   "source": [
    "print(\"Shape of loan_in_progress:\", loan_in_progress.shape)\n",
    "print(\"Shape of loan :\", loan.shape)"
   ]
  },
  {
   "cell_type": "markdown",
   "metadata": {},
   "source": [
    "There are many classes in loan_status feature. However, I want to divide it to 3 classses: bad, warning and safe."
   ]
  },
  {
   "cell_type": "code",
   "execution_count": 39,
   "metadata": {},
   "outputs": [],
   "source": [
    "bad_index = ['Charged Off',\n",
    "'Does not meet the credit policy. Status:Charged Off',\n",
    "'Default'\n",
    ",'Late (31-120 days)',\n",
    "'Late (16-30 days)',\n",
    "'In Grace Period']\n",
    "safe_index = ['Fully Paid',\n",
    "'Does not meet the credit policy. Status:Fully Paid'\n",
    "]"
   ]
  },
  {
   "cell_type": "code",
   "execution_count": 40,
   "metadata": {},
   "outputs": [],
   "source": [
    "def categorize_target(data):\n",
    "    \"\"\"Returns encoded loan status: Safe, Warning and Bad\"\"\"\n",
    "    def func(x):\n",
    "        if x['loan_status'] in bad_index:\n",
    "            return 0\n",
    "        else:\n",
    "            return 1\n",
    "    data['loan_status_coded'] = data.apply(func, axis=1)\n",
    "    data.drop('loan_status', axis=1, inplace=True)\n",
    "    return data"
   ]
  },
  {
   "cell_type": "code",
   "execution_count": 41,
   "metadata": {},
   "outputs": [],
   "source": [
    "loan = categorize_target(loan)"
   ]
  },
  {
   "cell_type": "code",
   "execution_count": 42,
   "metadata": {},
   "outputs": [
    {
     "data": {
      "text/html": [
       "<div>\n",
       "<style scoped>\n",
       "    .dataframe tbody tr th:only-of-type {\n",
       "        vertical-align: middle;\n",
       "    }\n",
       "\n",
       "    .dataframe tbody tr th {\n",
       "        vertical-align: top;\n",
       "    }\n",
       "\n",
       "    .dataframe thead th {\n",
       "        text-align: right;\n",
       "    }\n",
       "</style>\n",
       "<table border=\"1\" class=\"dataframe\">\n",
       "  <thead>\n",
       "    <tr style=\"text-align: right;\">\n",
       "      <th></th>\n",
       "      <th>id</th>\n",
       "      <th>member_id</th>\n",
       "      <th>loan_amnt</th>\n",
       "      <th>funded_amnt</th>\n",
       "      <th>funded_amnt_inv</th>\n",
       "      <th>term</th>\n",
       "      <th>int_rate</th>\n",
       "      <th>installment</th>\n",
       "      <th>grade</th>\n",
       "      <th>sub_grade</th>\n",
       "      <th>...</th>\n",
       "      <th>last_pymnt_amnt</th>\n",
       "      <th>last_credit_pull_d</th>\n",
       "      <th>collections_12_mths_ex_med</th>\n",
       "      <th>policy_code</th>\n",
       "      <th>application_type</th>\n",
       "      <th>acc_now_delinq</th>\n",
       "      <th>tot_coll_amt</th>\n",
       "      <th>tot_cur_bal</th>\n",
       "      <th>total_rev_hi_lim</th>\n",
       "      <th>loan_status_coded</th>\n",
       "    </tr>\n",
       "  </thead>\n",
       "  <tbody>\n",
       "    <tr>\n",
       "      <th>0</th>\n",
       "      <td>1077501</td>\n",
       "      <td>1296599</td>\n",
       "      <td>5000.0</td>\n",
       "      <td>5000.0</td>\n",
       "      <td>4975.0</td>\n",
       "      <td>36 months</td>\n",
       "      <td>10.65</td>\n",
       "      <td>162.87</td>\n",
       "      <td>B</td>\n",
       "      <td>B2</td>\n",
       "      <td>...</td>\n",
       "      <td>171.62</td>\n",
       "      <td>Jan-2016</td>\n",
       "      <td>0.0</td>\n",
       "      <td>1.0</td>\n",
       "      <td>INDIVIDUAL</td>\n",
       "      <td>0.0</td>\n",
       "      <td>NaN</td>\n",
       "      <td>NaN</td>\n",
       "      <td>NaN</td>\n",
       "      <td>1</td>\n",
       "    </tr>\n",
       "    <tr>\n",
       "      <th>1</th>\n",
       "      <td>1077430</td>\n",
       "      <td>1314167</td>\n",
       "      <td>2500.0</td>\n",
       "      <td>2500.0</td>\n",
       "      <td>2500.0</td>\n",
       "      <td>60 months</td>\n",
       "      <td>15.27</td>\n",
       "      <td>59.83</td>\n",
       "      <td>C</td>\n",
       "      <td>C4</td>\n",
       "      <td>...</td>\n",
       "      <td>119.66</td>\n",
       "      <td>Sep-2013</td>\n",
       "      <td>0.0</td>\n",
       "      <td>1.0</td>\n",
       "      <td>INDIVIDUAL</td>\n",
       "      <td>0.0</td>\n",
       "      <td>NaN</td>\n",
       "      <td>NaN</td>\n",
       "      <td>NaN</td>\n",
       "      <td>0</td>\n",
       "    </tr>\n",
       "    <tr>\n",
       "      <th>2</th>\n",
       "      <td>1077175</td>\n",
       "      <td>1313524</td>\n",
       "      <td>2400.0</td>\n",
       "      <td>2400.0</td>\n",
       "      <td>2400.0</td>\n",
       "      <td>36 months</td>\n",
       "      <td>15.96</td>\n",
       "      <td>84.33</td>\n",
       "      <td>C</td>\n",
       "      <td>C5</td>\n",
       "      <td>...</td>\n",
       "      <td>649.91</td>\n",
       "      <td>Jan-2016</td>\n",
       "      <td>0.0</td>\n",
       "      <td>1.0</td>\n",
       "      <td>INDIVIDUAL</td>\n",
       "      <td>0.0</td>\n",
       "      <td>NaN</td>\n",
       "      <td>NaN</td>\n",
       "      <td>NaN</td>\n",
       "      <td>1</td>\n",
       "    </tr>\n",
       "    <tr>\n",
       "      <th>3</th>\n",
       "      <td>1076863</td>\n",
       "      <td>1277178</td>\n",
       "      <td>10000.0</td>\n",
       "      <td>10000.0</td>\n",
       "      <td>10000.0</td>\n",
       "      <td>36 months</td>\n",
       "      <td>13.49</td>\n",
       "      <td>339.31</td>\n",
       "      <td>C</td>\n",
       "      <td>C1</td>\n",
       "      <td>...</td>\n",
       "      <td>357.48</td>\n",
       "      <td>Jan-2015</td>\n",
       "      <td>0.0</td>\n",
       "      <td>1.0</td>\n",
       "      <td>INDIVIDUAL</td>\n",
       "      <td>0.0</td>\n",
       "      <td>NaN</td>\n",
       "      <td>NaN</td>\n",
       "      <td>NaN</td>\n",
       "      <td>1</td>\n",
       "    </tr>\n",
       "    <tr>\n",
       "      <th>5</th>\n",
       "      <td>1075269</td>\n",
       "      <td>1311441</td>\n",
       "      <td>5000.0</td>\n",
       "      <td>5000.0</td>\n",
       "      <td>5000.0</td>\n",
       "      <td>36 months</td>\n",
       "      <td>7.90</td>\n",
       "      <td>156.46</td>\n",
       "      <td>A</td>\n",
       "      <td>A4</td>\n",
       "      <td>...</td>\n",
       "      <td>161.03</td>\n",
       "      <td>Sep-2015</td>\n",
       "      <td>0.0</td>\n",
       "      <td>1.0</td>\n",
       "      <td>INDIVIDUAL</td>\n",
       "      <td>0.0</td>\n",
       "      <td>NaN</td>\n",
       "      <td>NaN</td>\n",
       "      <td>NaN</td>\n",
       "      <td>1</td>\n",
       "    </tr>\n",
       "  </tbody>\n",
       "</table>\n",
       "<p>5 rows × 52 columns</p>\n",
       "</div>"
      ],
      "text/plain": [
       "        id  member_id  loan_amnt  funded_amnt  funded_amnt_inv        term  \\\n",
       "0  1077501    1296599     5000.0       5000.0           4975.0   36 months   \n",
       "1  1077430    1314167     2500.0       2500.0           2500.0   60 months   \n",
       "2  1077175    1313524     2400.0       2400.0           2400.0   36 months   \n",
       "3  1076863    1277178    10000.0      10000.0          10000.0   36 months   \n",
       "5  1075269    1311441     5000.0       5000.0           5000.0   36 months   \n",
       "\n",
       "   int_rate  installment grade sub_grade        ...        last_pymnt_amnt  \\\n",
       "0     10.65       162.87     B        B2        ...                 171.62   \n",
       "1     15.27        59.83     C        C4        ...                 119.66   \n",
       "2     15.96        84.33     C        C5        ...                 649.91   \n",
       "3     13.49       339.31     C        C1        ...                 357.48   \n",
       "5      7.90       156.46     A        A4        ...                 161.03   \n",
       "\n",
       "  last_credit_pull_d collections_12_mths_ex_med  policy_code application_type  \\\n",
       "0           Jan-2016                        0.0          1.0       INDIVIDUAL   \n",
       "1           Sep-2013                        0.0          1.0       INDIVIDUAL   \n",
       "2           Jan-2016                        0.0          1.0       INDIVIDUAL   \n",
       "3           Jan-2015                        0.0          1.0       INDIVIDUAL   \n",
       "5           Sep-2015                        0.0          1.0       INDIVIDUAL   \n",
       "\n",
       "  acc_now_delinq tot_coll_amt tot_cur_bal total_rev_hi_lim loan_status_coded  \n",
       "0            0.0          NaN         NaN              NaN                 1  \n",
       "1            0.0          NaN         NaN              NaN                 0  \n",
       "2            0.0          NaN         NaN              NaN                 1  \n",
       "3            0.0          NaN         NaN              NaN                 1  \n",
       "5            0.0          NaN         NaN              NaN                 1  \n",
       "\n",
       "[5 rows x 52 columns]"
      ]
     },
     "execution_count": 42,
     "metadata": {},
     "output_type": "execute_result"
    }
   ],
   "source": [
    "loan.head()"
   ]
  },
  {
   "cell_type": "markdown",
   "metadata": {},
   "source": [
    "# Exploratory Data Analysis"
   ]
  },
  {
   "cell_type": "code",
   "execution_count": 43,
   "metadata": {},
   "outputs": [
    {
     "data": {
      "text/plain": [
       "id                              int64\n",
       "member_id                       int64\n",
       "loan_amnt                     float64\n",
       "funded_amnt                   float64\n",
       "funded_amnt_inv               float64\n",
       "term                           object\n",
       "int_rate                      float64\n",
       "installment                   float64\n",
       "grade                          object\n",
       "sub_grade                      object\n",
       "emp_title                      object\n",
       "emp_length                     object\n",
       "home_ownership                 object\n",
       "annual_inc                    float64\n",
       "verification_status            object\n",
       "issue_d                        object\n",
       "pymnt_plan                     object\n",
       "url                            object\n",
       "purpose                        object\n",
       "title                          object\n",
       "zip_code                       object\n",
       "addr_state                     object\n",
       "dti                           float64\n",
       "delinq_2yrs                   float64\n",
       "earliest_cr_line               object\n",
       "inq_last_6mths                float64\n",
       "open_acc                      float64\n",
       "pub_rec                       float64\n",
       "revol_bal                     float64\n",
       "revol_util                    float64\n",
       "total_acc                     float64\n",
       "initial_list_status            object\n",
       "out_prncp                     float64\n",
       "out_prncp_inv                 float64\n",
       "total_pymnt                   float64\n",
       "total_pymnt_inv               float64\n",
       "total_rec_prncp               float64\n",
       "total_rec_int                 float64\n",
       "total_rec_late_fee            float64\n",
       "recoveries                    float64\n",
       "collection_recovery_fee       float64\n",
       "last_pymnt_d                   object\n",
       "last_pymnt_amnt               float64\n",
       "last_credit_pull_d             object\n",
       "collections_12_mths_ex_med    float64\n",
       "policy_code                   float64\n",
       "application_type               object\n",
       "acc_now_delinq                float64\n",
       "tot_coll_amt                  float64\n",
       "tot_cur_bal                   float64\n",
       "total_rev_hi_lim              float64\n",
       "loan_status_coded               int64\n",
       "dtype: object"
      ]
     },
     "execution_count": 43,
     "metadata": {},
     "output_type": "execute_result"
    }
   ],
   "source": [
    "loan.dtypes"
   ]
  },
  {
   "cell_type": "markdown",
   "metadata": {},
   "source": [
    "### Loan_amount"
   ]
  },
  {
   "cell_type": "markdown",
   "metadata": {},
   "source": [
    "loan_amnt: The listed amount of the loan applied for by the borrower. If at some point in time, the credit\n",
    "department reduces the loan amount, then it will be reflected in this value."
   ]
  },
  {
   "cell_type": "code",
   "execution_count": 44,
   "metadata": {},
   "outputs": [
    {
     "name": "stderr",
     "output_type": "stream",
     "text": [
      "C:\\Users\\manoj\\Anaconda3\\lib\\site-packages\\matplotlib\\axes\\_axes.py:6462: UserWarning: The 'normed' kwarg is deprecated, and has been replaced by the 'density' kwarg.\n",
      "  warnings.warn(\"The 'normed' kwarg is deprecated, and has been \"\n"
     ]
    },
    {
     "data": {
      "text/plain": [
       "<matplotlib.axes._subplots.AxesSubplot at 0x29d1ea309e8>"
      ]
     },
     "execution_count": 44,
     "metadata": {},
     "output_type": "execute_result"
    },
    {
     "data": {
      "image/png": "[encoded data removed]",
      "text/plain": [
       "<Figure size 432x288 with 1 Axes>"
      ]
     },
     "metadata": {},
     "output_type": "display_data"
    }
   ],
   "source": [
    "sns.distplot(loan[\"loan_amnt\"])"
   ]
  },
  {
   "cell_type": "markdown",
   "metadata": {},
   "source": [
    "### Funded Amount and Funded Amount Investors"
   ]
  },
  {
   "cell_type": "markdown",
   "metadata": {},
   "source": [
    "funded_amnt: The total amount committed to that loan at that point in time.\n",
    "funded_amnt_inv: The total amount committed by investors for that loan at that point in time."
   ]
  },
  {
   "cell_type": "code",
   "execution_count": 46,
   "metadata": {},
   "outputs": [
    {
     "name": "stderr",
     "output_type": "stream",
     "text": [
      "C:\\Users\\manoj\\Anaconda3\\lib\\site-packages\\matplotlib\\axes\\_axes.py:6462: UserWarning: The 'normed' kwarg is deprecated, and has been replaced by the 'density' kwarg.\n",
      "  warnings.warn(\"The 'normed' kwarg is deprecated, and has been \"\n",
      "C:\\Users\\manoj\\Anaconda3\\lib\\site-packages\\matplotlib\\axes\\_axes.py:6462: UserWarning: The 'normed' kwarg is deprecated, and has been replaced by the 'density' kwarg.\n",
      "  warnings.warn(\"The 'normed' kwarg is deprecated, and has been \"\n"
     ]
    },
    {
     "data": {
      "image/png": "[encoded data removed]",
      "text/plain": [
       "<Figure size 432x288 with 1 Axes>"
      ]
     },
     "metadata": {},
     "output_type": "display_data"
    }
   ],
   "source": [
    "plt.figure()\n",
    "sns.distplot(loan[\"funded_amnt\"], label=\"funded_amnt\")\n",
    "sns.distplot(loan[\"funded_amnt_inv\"], label=\"funded_amnt_inv\")\n",
    "plt.legend()\n",
    "plt.xlabel(\"funded\")\n",
    "plt.show()"
   ]
  },
  {
   "cell_type": "markdown",
   "metadata": {},
   "source": [
    "### Term"
   ]
  },
  {
   "cell_type": "markdown",
   "metadata": {},
   "source": [
    "term: The number of payments on the loan. Values are in months and can be eithe"
   ]
  },
  {
   "cell_type": "code",
   "execution_count": 48,
   "metadata": {},
   "outputs": [
    {
     "data": {
      "text/plain": [
       "<matplotlib.axes._subplots.AxesSubplot at 0x29d02020f28>"
      ]
     },
     "execution_count": 48,
     "metadata": {},
     "output_type": "execute_result"
    },
    {
     "data": {
      "image/png": "[encoded data removed]",
      "text/plain": [
       "<Figure size 432x288 with 1 Axes>"
      ]
     },
     "metadata": {},
     "output_type": "display_data"
    }
   ],
   "source": [
    "sns.countplot(loan[\"term\"])"
   ]
  },
  {
   "cell_type": "code",
   "execution_count": 49,
   "metadata": {},
   "outputs": [
    {
     "data": {
      "text/plain": [
       "<matplotlib.axes._subplots.AxesSubplot at 0x29d02020668>"
      ]
     },
     "execution_count": 49,
     "metadata": {},
     "output_type": "execute_result"
    },
    {
     "data": {
      "image/png": "[encoded data removed]",
      "text/plain": [
       "<Figure size 432x288 with 1 Axes>"
      ]
     },
     "metadata": {},
     "output_type": "display_data"
    }
   ],
   "source": [
    "sns.barplot(x=\"term\", y=\"loan_status_coded\", data=loan)"
   ]
  },
  {
   "cell_type": "markdown",
   "metadata": {},
   "source": [
    "### Interest Rate"
   ]
  },
  {
   "cell_type": "markdown",
   "metadata": {},
   "source": [
    "int_rate: Rate of interest on the approvedloans"
   ]
  },
  {
   "cell_type": "code",
   "execution_count": 50,
   "metadata": {},
   "outputs": [
    {
     "name": "stderr",
     "output_type": "stream",
     "text": [
      "C:\\Users\\manoj\\Anaconda3\\lib\\site-packages\\matplotlib\\axes\\_axes.py:6462: UserWarning: The 'normed' kwarg is deprecated, and has been replaced by the 'density' kwarg.\n",
      "  warnings.warn(\"The 'normed' kwarg is deprecated, and has been \"\n"
     ]
    },
    {
     "data": {
      "text/plain": [
       "<matplotlib.axes._subplots.AxesSubplot at 0x29d19122e10>"
      ]
     },
     "execution_count": 50,
     "metadata": {},
     "output_type": "execute_result"
    },
    {
     "data": {
      "image/png": "[encoded data removed]",
      "text/plain": [
       "<Figure size 432x288 with 1 Axes>"
      ]
     },
     "metadata": {},
     "output_type": "display_data"
    }
   ],
   "source": [
    "sns.distplot(loan[\"int_rate\"])"
   ]
  },
  {
   "cell_type": "markdown",
   "metadata": {},
   "source": [
    "### Installment"
   ]
  },
  {
   "cell_type": "markdown",
   "metadata": {},
   "source": [
    "installment: The monthly payment owed by the borrower if the loan originates."
   ]
  },
  {
   "cell_type": "code",
   "execution_count": 52,
   "metadata": {},
   "outputs": [
    {
     "name": "stderr",
     "output_type": "stream",
     "text": [
      "C:\\Users\\manoj\\Anaconda3\\lib\\site-packages\\matplotlib\\axes\\_axes.py:6462: UserWarning: The 'normed' kwarg is deprecated, and has been replaced by the 'density' kwarg.\n",
      "  warnings.warn(\"The 'normed' kwarg is deprecated, and has been \"\n"
     ]
    },
    {
     "data": {
      "text/plain": [
       "<matplotlib.axes._subplots.AxesSubplot at 0x29d036a6518>"
      ]
     },
     "execution_count": 52,
     "metadata": {},
     "output_type": "execute_result"
    },
    {
     "data": {
      "image/png": "[encoded data removed]",
      "text/plain": [
       "<Figure size 432x288 with 1 Axes>"
      ]
     },
     "metadata": {},
     "output_type": "display_data"
    }
   ],
   "source": [
    "sns.distplot(loan[\"installment\"])"
   ]
  },
  {
   "cell_type": "markdown",
   "metadata": {},
   "source": [
    "### Grade"
   ]
  },
  {
   "cell_type": "code",
   "execution_count": 53,
   "metadata": {},
   "outputs": [
    {
     "data": {
      "image/png": "[encoded data removed]",
      "text/plain": [
       "<Figure size 864x360 with 2 Axes>"
      ]
     },
     "metadata": {},
     "output_type": "display_data"
    }
   ],
   "source": [
    "plt.figure(figsize=(12,5))\n",
    "plt.subplot(1,2,1)\n",
    "sns.countplot(loan[\"grade\"])\n",
    "plt.subplot(1,2,2)\n",
    "sns.barplot(x=\"grade\", y=\"loan_status_coded\", data=loan)\n",
    "plt.tight_layout()\n",
    "plt.show()"
   ]
  },
  {
   "cell_type": "markdown",
   "metadata": {},
   "source": [
    "### Sub_grade"
   ]
  },
  {
   "cell_type": "code",
   "execution_count": 54,
   "metadata": {},
   "outputs": [
    {
     "data": {
      "image/png": "[encoded data removed]",
      "text/plain": [
       "<Figure size 864x360 with 2 Axes>"
      ]
     },
     "metadata": {},
     "output_type": "display_data"
    }
   ],
   "source": [
    "plt.figure(figsize=(12,5))\n",
    "plt.subplot(1,2,1)\n",
    "sns.countplot(loan[\"sub_grade\"])\n",
    "plt.subplot(1,2,2)\n",
    "sns.barplot(x=\"sub_grade\", y=\"loan_status_coded\", data=loan)\n",
    "plt.tight_layout()\n",
    "plt.show()"
   ]
  },
  {
   "cell_type": "markdown",
   "metadata": {},
   "source": [
    "It would be better to extract just a number from sub_grade rather than grade as the grade is already being\n",
    "provided by the grade feature"
   ]
  },
  {
   "cell_type": "code",
   "execution_count": 56,
   "metadata": {},
   "outputs": [],
   "source": [
    "def ext_num_from_sub_grade(data):\n",
    "    data['sub_grade'] = data['sub_grade'].map(lambda x: int(x.lstrip('ABCDEFG')))\n",
    "    return data"
   ]
  },
  {
   "cell_type": "code",
   "execution_count": 57,
   "metadata": {},
   "outputs": [
    {
     "data": {
      "text/html": [
       "<div>\n",
       "<style scoped>\n",
       "    .dataframe tbody tr th:only-of-type {\n",
       "        vertical-align: middle;\n",
       "    }\n",
       "\n",
       "    .dataframe tbody tr th {\n",
       "        vertical-align: top;\n",
       "    }\n",
       "\n",
       "    .dataframe thead th {\n",
       "        text-align: right;\n",
       "    }\n",
       "</style>\n",
       "<table border=\"1\" class=\"dataframe\">\n",
       "  <thead>\n",
       "    <tr style=\"text-align: right;\">\n",
       "      <th></th>\n",
       "      <th>id</th>\n",
       "      <th>member_id</th>\n",
       "      <th>loan_amnt</th>\n",
       "      <th>funded_amnt</th>\n",
       "      <th>funded_amnt_inv</th>\n",
       "      <th>term</th>\n",
       "      <th>int_rate</th>\n",
       "      <th>installment</th>\n",
       "      <th>grade</th>\n",
       "      <th>sub_grade</th>\n",
       "      <th>...</th>\n",
       "      <th>last_pymnt_amnt</th>\n",
       "      <th>last_credit_pull_d</th>\n",
       "      <th>collections_12_mths_ex_med</th>\n",
       "      <th>policy_code</th>\n",
       "      <th>application_type</th>\n",
       "      <th>acc_now_delinq</th>\n",
       "      <th>tot_coll_amt</th>\n",
       "      <th>tot_cur_bal</th>\n",
       "      <th>total_rev_hi_lim</th>\n",
       "      <th>loan_status_coded</th>\n",
       "    </tr>\n",
       "  </thead>\n",
       "  <tbody>\n",
       "    <tr>\n",
       "      <th>0</th>\n",
       "      <td>1077501</td>\n",
       "      <td>1296599</td>\n",
       "      <td>5000.0</td>\n",
       "      <td>5000.0</td>\n",
       "      <td>4975.000000</td>\n",
       "      <td>36 months</td>\n",
       "      <td>10.65</td>\n",
       "      <td>162.87</td>\n",
       "      <td>B</td>\n",
       "      <td>2</td>\n",
       "      <td>...</td>\n",
       "      <td>171.62</td>\n",
       "      <td>Jan-2016</td>\n",
       "      <td>0.0</td>\n",
       "      <td>1.0</td>\n",
       "      <td>INDIVIDUAL</td>\n",
       "      <td>0.0</td>\n",
       "      <td>NaN</td>\n",
       "      <td>NaN</td>\n",
       "      <td>NaN</td>\n",
       "      <td>1</td>\n",
       "    </tr>\n",
       "    <tr>\n",
       "      <th>1</th>\n",
       "      <td>1077430</td>\n",
       "      <td>1314167</td>\n",
       "      <td>2500.0</td>\n",
       "      <td>2500.0</td>\n",
       "      <td>2500.000000</td>\n",
       "      <td>60 months</td>\n",
       "      <td>15.27</td>\n",
       "      <td>59.83</td>\n",
       "      <td>C</td>\n",
       "      <td>4</td>\n",
       "      <td>...</td>\n",
       "      <td>119.66</td>\n",
       "      <td>Sep-2013</td>\n",
       "      <td>0.0</td>\n",
       "      <td>1.0</td>\n",
       "      <td>INDIVIDUAL</td>\n",
       "      <td>0.0</td>\n",
       "      <td>NaN</td>\n",
       "      <td>NaN</td>\n",
       "      <td>NaN</td>\n",
       "      <td>0</td>\n",
       "    </tr>\n",
       "    <tr>\n",
       "      <th>2</th>\n",
       "      <td>1077175</td>\n",
       "      <td>1313524</td>\n",
       "      <td>2400.0</td>\n",
       "      <td>2400.0</td>\n",
       "      <td>2400.000000</td>\n",
       "      <td>36 months</td>\n",
       "      <td>15.96</td>\n",
       "      <td>84.33</td>\n",
       "      <td>C</td>\n",
       "      <td>5</td>\n",
       "      <td>...</td>\n",
       "      <td>649.91</td>\n",
       "      <td>Jan-2016</td>\n",
       "      <td>0.0</td>\n",
       "      <td>1.0</td>\n",
       "      <td>INDIVIDUAL</td>\n",
       "      <td>0.0</td>\n",
       "      <td>NaN</td>\n",
       "      <td>NaN</td>\n",
       "      <td>NaN</td>\n",
       "      <td>1</td>\n",
       "    </tr>\n",
       "    <tr>\n",
       "      <th>3</th>\n",
       "      <td>1076863</td>\n",
       "      <td>1277178</td>\n",
       "      <td>10000.0</td>\n",
       "      <td>10000.0</td>\n",
       "      <td>10000.000000</td>\n",
       "      <td>36 months</td>\n",
       "      <td>13.49</td>\n",
       "      <td>339.31</td>\n",
       "      <td>C</td>\n",
       "      <td>1</td>\n",
       "      <td>...</td>\n",
       "      <td>357.48</td>\n",
       "      <td>Jan-2015</td>\n",
       "      <td>0.0</td>\n",
       "      <td>1.0</td>\n",
       "      <td>INDIVIDUAL</td>\n",
       "      <td>0.0</td>\n",
       "      <td>NaN</td>\n",
       "      <td>NaN</td>\n",
       "      <td>NaN</td>\n",
       "      <td>1</td>\n",
       "    </tr>\n",
       "    <tr>\n",
       "      <th>5</th>\n",
       "      <td>1075269</td>\n",
       "      <td>1311441</td>\n",
       "      <td>5000.0</td>\n",
       "      <td>5000.0</td>\n",
       "      <td>5000.000000</td>\n",
       "      <td>36 months</td>\n",
       "      <td>7.90</td>\n",
       "      <td>156.46</td>\n",
       "      <td>A</td>\n",
       "      <td>4</td>\n",
       "      <td>...</td>\n",
       "      <td>161.03</td>\n",
       "      <td>Sep-2015</td>\n",
       "      <td>0.0</td>\n",
       "      <td>1.0</td>\n",
       "      <td>INDIVIDUAL</td>\n",
       "      <td>0.0</td>\n",
       "      <td>NaN</td>\n",
       "      <td>NaN</td>\n",
       "      <td>NaN</td>\n",
       "      <td>1</td>\n",
       "    </tr>\n",
       "    <tr>\n",
       "      <th>7</th>\n",
       "      <td>1072053</td>\n",
       "      <td>1288686</td>\n",
       "      <td>3000.0</td>\n",
       "      <td>3000.0</td>\n",
       "      <td>3000.000000</td>\n",
       "      <td>36 months</td>\n",
       "      <td>18.64</td>\n",
       "      <td>109.43</td>\n",
       "      <td>E</td>\n",
       "      <td>1</td>\n",
       "      <td>...</td>\n",
       "      <td>111.34</td>\n",
       "      <td>Dec-2014</td>\n",
       "      <td>0.0</td>\n",
       "      <td>1.0</td>\n",
       "      <td>INDIVIDUAL</td>\n",
       "      <td>0.0</td>\n",
       "      <td>NaN</td>\n",
       "      <td>NaN</td>\n",
       "      <td>NaN</td>\n",
       "      <td>1</td>\n",
       "    </tr>\n",
       "    <tr>\n",
       "      <th>8</th>\n",
       "      <td>1071795</td>\n",
       "      <td>1306957</td>\n",
       "      <td>5600.0</td>\n",
       "      <td>5600.0</td>\n",
       "      <td>5600.000000</td>\n",
       "      <td>60 months</td>\n",
       "      <td>21.28</td>\n",
       "      <td>152.39</td>\n",
       "      <td>F</td>\n",
       "      <td>2</td>\n",
       "      <td>...</td>\n",
       "      <td>152.39</td>\n",
       "      <td>Aug-2012</td>\n",
       "      <td>0.0</td>\n",
       "      <td>1.0</td>\n",
       "      <td>INDIVIDUAL</td>\n",
       "      <td>0.0</td>\n",
       "      <td>NaN</td>\n",
       "      <td>NaN</td>\n",
       "      <td>NaN</td>\n",
       "      <td>0</td>\n",
       "    </tr>\n",
       "    <tr>\n",
       "      <th>9</th>\n",
       "      <td>1071570</td>\n",
       "      <td>1306721</td>\n",
       "      <td>5375.0</td>\n",
       "      <td>5375.0</td>\n",
       "      <td>5350.000000</td>\n",
       "      <td>60 months</td>\n",
       "      <td>12.69</td>\n",
       "      <td>121.45</td>\n",
       "      <td>B</td>\n",
       "      <td>5</td>\n",
       "      <td>...</td>\n",
       "      <td>121.45</td>\n",
       "      <td>Mar-2013</td>\n",
       "      <td>0.0</td>\n",
       "      <td>1.0</td>\n",
       "      <td>INDIVIDUAL</td>\n",
       "      <td>0.0</td>\n",
       "      <td>NaN</td>\n",
       "      <td>NaN</td>\n",
       "      <td>NaN</td>\n",
       "      <td>0</td>\n",
       "    </tr>\n",
       "    <tr>\n",
       "      <th>10</th>\n",
       "      <td>1070078</td>\n",
       "      <td>1305201</td>\n",
       "      <td>6500.0</td>\n",
       "      <td>6500.0</td>\n",
       "      <td>6500.000000</td>\n",
       "      <td>60 months</td>\n",
       "      <td>14.65</td>\n",
       "      <td>153.45</td>\n",
       "      <td>C</td>\n",
       "      <td>3</td>\n",
       "      <td>...</td>\n",
       "      <td>1655.54</td>\n",
       "      <td>Dec-2015</td>\n",
       "      <td>0.0</td>\n",
       "      <td>1.0</td>\n",
       "      <td>INDIVIDUAL</td>\n",
       "      <td>0.0</td>\n",
       "      <td>NaN</td>\n",
       "      <td>NaN</td>\n",
       "      <td>NaN</td>\n",
       "      <td>1</td>\n",
       "    </tr>\n",
       "    <tr>\n",
       "      <th>11</th>\n",
       "      <td>1069908</td>\n",
       "      <td>1305008</td>\n",
       "      <td>12000.0</td>\n",
       "      <td>12000.0</td>\n",
       "      <td>12000.000000</td>\n",
       "      <td>36 months</td>\n",
       "      <td>12.69</td>\n",
       "      <td>402.54</td>\n",
       "      <td>B</td>\n",
       "      <td>5</td>\n",
       "      <td>...</td>\n",
       "      <td>6315.30</td>\n",
       "      <td>Aug-2013</td>\n",
       "      <td>0.0</td>\n",
       "      <td>1.0</td>\n",
       "      <td>INDIVIDUAL</td>\n",
       "      <td>0.0</td>\n",
       "      <td>NaN</td>\n",
       "      <td>NaN</td>\n",
       "      <td>NaN</td>\n",
       "      <td>1</td>\n",
       "    </tr>\n",
       "    <tr>\n",
       "      <th>12</th>\n",
       "      <td>1064687</td>\n",
       "      <td>1298717</td>\n",
       "      <td>9000.0</td>\n",
       "      <td>9000.0</td>\n",
       "      <td>9000.000000</td>\n",
       "      <td>36 months</td>\n",
       "      <td>13.49</td>\n",
       "      <td>305.38</td>\n",
       "      <td>C</td>\n",
       "      <td>1</td>\n",
       "      <td>...</td>\n",
       "      <td>305.38</td>\n",
       "      <td>Nov-2012</td>\n",
       "      <td>0.0</td>\n",
       "      <td>1.0</td>\n",
       "      <td>INDIVIDUAL</td>\n",
       "      <td>0.0</td>\n",
       "      <td>NaN</td>\n",
       "      <td>NaN</td>\n",
       "      <td>NaN</td>\n",
       "      <td>0</td>\n",
       "    </tr>\n",
       "    <tr>\n",
       "      <th>13</th>\n",
       "      <td>1069866</td>\n",
       "      <td>1304956</td>\n",
       "      <td>3000.0</td>\n",
       "      <td>3000.0</td>\n",
       "      <td>3000.000000</td>\n",
       "      <td>36 months</td>\n",
       "      <td>9.91</td>\n",
       "      <td>96.68</td>\n",
       "      <td>B</td>\n",
       "      <td>1</td>\n",
       "      <td>...</td>\n",
       "      <td>102.43</td>\n",
       "      <td>Jan-2016</td>\n",
       "      <td>0.0</td>\n",
       "      <td>1.0</td>\n",
       "      <td>INDIVIDUAL</td>\n",
       "      <td>0.0</td>\n",
       "      <td>NaN</td>\n",
       "      <td>NaN</td>\n",
       "      <td>NaN</td>\n",
       "      <td>1</td>\n",
       "    </tr>\n",
       "    <tr>\n",
       "      <th>14</th>\n",
       "      <td>1069057</td>\n",
       "      <td>1303503</td>\n",
       "      <td>10000.0</td>\n",
       "      <td>10000.0</td>\n",
       "      <td>10000.000000</td>\n",
       "      <td>36 months</td>\n",
       "      <td>10.65</td>\n",
       "      <td>325.74</td>\n",
       "      <td>B</td>\n",
       "      <td>2</td>\n",
       "      <td>...</td>\n",
       "      <td>325.74</td>\n",
       "      <td>Mar-2014</td>\n",
       "      <td>0.0</td>\n",
       "      <td>1.0</td>\n",
       "      <td>INDIVIDUAL</td>\n",
       "      <td>0.0</td>\n",
       "      <td>NaN</td>\n",
       "      <td>NaN</td>\n",
       "      <td>NaN</td>\n",
       "      <td>0</td>\n",
       "    </tr>\n",
       "    <tr>\n",
       "      <th>15</th>\n",
       "      <td>1069759</td>\n",
       "      <td>1304871</td>\n",
       "      <td>1000.0</td>\n",
       "      <td>1000.0</td>\n",
       "      <td>1000.000000</td>\n",
       "      <td>36 months</td>\n",
       "      <td>16.29</td>\n",
       "      <td>35.31</td>\n",
       "      <td>D</td>\n",
       "      <td>1</td>\n",
       "      <td>...</td>\n",
       "      <td>36.32</td>\n",
       "      <td>Jan-2016</td>\n",
       "      <td>0.0</td>\n",
       "      <td>1.0</td>\n",
       "      <td>INDIVIDUAL</td>\n",
       "      <td>0.0</td>\n",
       "      <td>NaN</td>\n",
       "      <td>NaN</td>\n",
       "      <td>NaN</td>\n",
       "      <td>1</td>\n",
       "    </tr>\n",
       "    <tr>\n",
       "      <th>16</th>\n",
       "      <td>1065775</td>\n",
       "      <td>1299699</td>\n",
       "      <td>10000.0</td>\n",
       "      <td>10000.0</td>\n",
       "      <td>10000.000000</td>\n",
       "      <td>36 months</td>\n",
       "      <td>15.27</td>\n",
       "      <td>347.98</td>\n",
       "      <td>C</td>\n",
       "      <td>4</td>\n",
       "      <td>...</td>\n",
       "      <td>370.46</td>\n",
       "      <td>Apr-2015</td>\n",
       "      <td>0.0</td>\n",
       "      <td>1.0</td>\n",
       "      <td>INDIVIDUAL</td>\n",
       "      <td>0.0</td>\n",
       "      <td>NaN</td>\n",
       "      <td>NaN</td>\n",
       "      <td>NaN</td>\n",
       "      <td>1</td>\n",
       "    </tr>\n",
       "    <tr>\n",
       "      <th>17</th>\n",
       "      <td>1069971</td>\n",
       "      <td>1304884</td>\n",
       "      <td>3600.0</td>\n",
       "      <td>3600.0</td>\n",
       "      <td>3600.000000</td>\n",
       "      <td>36 months</td>\n",
       "      <td>6.03</td>\n",
       "      <td>109.57</td>\n",
       "      <td>A</td>\n",
       "      <td>1</td>\n",
       "      <td>...</td>\n",
       "      <td>583.45</td>\n",
       "      <td>May-2014</td>\n",
       "      <td>0.0</td>\n",
       "      <td>1.0</td>\n",
       "      <td>INDIVIDUAL</td>\n",
       "      <td>0.0</td>\n",
       "      <td>NaN</td>\n",
       "      <td>NaN</td>\n",
       "      <td>NaN</td>\n",
       "      <td>1</td>\n",
       "    </tr>\n",
       "    <tr>\n",
       "      <th>18</th>\n",
       "      <td>1062474</td>\n",
       "      <td>1294539</td>\n",
       "      <td>6000.0</td>\n",
       "      <td>6000.0</td>\n",
       "      <td>6000.000000</td>\n",
       "      <td>36 months</td>\n",
       "      <td>11.71</td>\n",
       "      <td>198.46</td>\n",
       "      <td>B</td>\n",
       "      <td>3</td>\n",
       "      <td>...</td>\n",
       "      <td>16.98</td>\n",
       "      <td>Jul-2015</td>\n",
       "      <td>0.0</td>\n",
       "      <td>1.0</td>\n",
       "      <td>INDIVIDUAL</td>\n",
       "      <td>0.0</td>\n",
       "      <td>NaN</td>\n",
       "      <td>NaN</td>\n",
       "      <td>NaN</td>\n",
       "      <td>1</td>\n",
       "    </tr>\n",
       "    <tr>\n",
       "      <th>19</th>\n",
       "      <td>1069742</td>\n",
       "      <td>1304855</td>\n",
       "      <td>9200.0</td>\n",
       "      <td>9200.0</td>\n",
       "      <td>9200.000000</td>\n",
       "      <td>36 months</td>\n",
       "      <td>6.03</td>\n",
       "      <td>280.01</td>\n",
       "      <td>A</td>\n",
       "      <td>1</td>\n",
       "      <td>...</td>\n",
       "      <td>8061.10</td>\n",
       "      <td>Jul-2012</td>\n",
       "      <td>0.0</td>\n",
       "      <td>1.0</td>\n",
       "      <td>INDIVIDUAL</td>\n",
       "      <td>0.0</td>\n",
       "      <td>NaN</td>\n",
       "      <td>NaN</td>\n",
       "      <td>NaN</td>\n",
       "      <td>1</td>\n",
       "    </tr>\n",
       "    <tr>\n",
       "      <th>20</th>\n",
       "      <td>1069740</td>\n",
       "      <td>1284848</td>\n",
       "      <td>20250.0</td>\n",
       "      <td>20250.0</td>\n",
       "      <td>19142.161077</td>\n",
       "      <td>60 months</td>\n",
       "      <td>15.27</td>\n",
       "      <td>484.63</td>\n",
       "      <td>C</td>\n",
       "      <td>4</td>\n",
       "      <td>...</td>\n",
       "      <td>6024.09</td>\n",
       "      <td>Dec-2015</td>\n",
       "      <td>0.0</td>\n",
       "      <td>1.0</td>\n",
       "      <td>INDIVIDUAL</td>\n",
       "      <td>0.0</td>\n",
       "      <td>NaN</td>\n",
       "      <td>NaN</td>\n",
       "      <td>NaN</td>\n",
       "      <td>1</td>\n",
       "    </tr>\n",
       "    <tr>\n",
       "      <th>21</th>\n",
       "      <td>1039153</td>\n",
       "      <td>1269083</td>\n",
       "      <td>21000.0</td>\n",
       "      <td>21000.0</td>\n",
       "      <td>21000.000000</td>\n",
       "      <td>36 months</td>\n",
       "      <td>12.42</td>\n",
       "      <td>701.73</td>\n",
       "      <td>B</td>\n",
       "      <td>4</td>\n",
       "      <td>...</td>\n",
       "      <td>701.73</td>\n",
       "      <td>Jan-2016</td>\n",
       "      <td>0.0</td>\n",
       "      <td>1.0</td>\n",
       "      <td>INDIVIDUAL</td>\n",
       "      <td>0.0</td>\n",
       "      <td>NaN</td>\n",
       "      <td>NaN</td>\n",
       "      <td>NaN</td>\n",
       "      <td>0</td>\n",
       "    </tr>\n",
       "    <tr>\n",
       "      <th>22</th>\n",
       "      <td>1069710</td>\n",
       "      <td>1304821</td>\n",
       "      <td>10000.0</td>\n",
       "      <td>10000.0</td>\n",
       "      <td>10000.000000</td>\n",
       "      <td>36 months</td>\n",
       "      <td>11.71</td>\n",
       "      <td>330.76</td>\n",
       "      <td>B</td>\n",
       "      <td>3</td>\n",
       "      <td>...</td>\n",
       "      <td>349.21</td>\n",
       "      <td>Jan-2016</td>\n",
       "      <td>0.0</td>\n",
       "      <td>1.0</td>\n",
       "      <td>INDIVIDUAL</td>\n",
       "      <td>0.0</td>\n",
       "      <td>NaN</td>\n",
       "      <td>NaN</td>\n",
       "      <td>NaN</td>\n",
       "      <td>1</td>\n",
       "    </tr>\n",
       "    <tr>\n",
       "      <th>23</th>\n",
       "      <td>1069700</td>\n",
       "      <td>1304810</td>\n",
       "      <td>10000.0</td>\n",
       "      <td>10000.0</td>\n",
       "      <td>10000.000000</td>\n",
       "      <td>36 months</td>\n",
       "      <td>11.71</td>\n",
       "      <td>330.76</td>\n",
       "      <td>B</td>\n",
       "      <td>3</td>\n",
       "      <td>...</td>\n",
       "      <td>4942.63</td>\n",
       "      <td>Mar-2014</td>\n",
       "      <td>0.0</td>\n",
       "      <td>1.0</td>\n",
       "      <td>INDIVIDUAL</td>\n",
       "      <td>0.0</td>\n",
       "      <td>NaN</td>\n",
       "      <td>NaN</td>\n",
       "      <td>NaN</td>\n",
       "      <td>1</td>\n",
       "    </tr>\n",
       "    <tr>\n",
       "      <th>24</th>\n",
       "      <td>1069559</td>\n",
       "      <td>1304634</td>\n",
       "      <td>6000.0</td>\n",
       "      <td>6000.0</td>\n",
       "      <td>6000.000000</td>\n",
       "      <td>36 months</td>\n",
       "      <td>11.71</td>\n",
       "      <td>198.46</td>\n",
       "      <td>B</td>\n",
       "      <td>3</td>\n",
       "      <td>...</td>\n",
       "      <td>198.46</td>\n",
       "      <td>Mar-2013</td>\n",
       "      <td>0.0</td>\n",
       "      <td>1.0</td>\n",
       "      <td>INDIVIDUAL</td>\n",
       "      <td>0.0</td>\n",
       "      <td>NaN</td>\n",
       "      <td>NaN</td>\n",
       "      <td>NaN</td>\n",
       "      <td>0</td>\n",
       "    </tr>\n",
       "    <tr>\n",
       "      <th>25</th>\n",
       "      <td>1069697</td>\n",
       "      <td>1273773</td>\n",
       "      <td>15000.0</td>\n",
       "      <td>15000.0</td>\n",
       "      <td>15000.000000</td>\n",
       "      <td>36 months</td>\n",
       "      <td>9.91</td>\n",
       "      <td>483.38</td>\n",
       "      <td>B</td>\n",
       "      <td>1</td>\n",
       "      <td>...</td>\n",
       "      <td>2447.05</td>\n",
       "      <td>Sep-2012</td>\n",
       "      <td>0.0</td>\n",
       "      <td>1.0</td>\n",
       "      <td>INDIVIDUAL</td>\n",
       "      <td>0.0</td>\n",
       "      <td>NaN</td>\n",
       "      <td>NaN</td>\n",
       "      <td>NaN</td>\n",
       "      <td>1</td>\n",
       "    </tr>\n",
       "    <tr>\n",
       "      <th>26</th>\n",
       "      <td>1069800</td>\n",
       "      <td>1304679</td>\n",
       "      <td>15000.0</td>\n",
       "      <td>15000.0</td>\n",
       "      <td>8725.000000</td>\n",
       "      <td>36 months</td>\n",
       "      <td>14.27</td>\n",
       "      <td>514.64</td>\n",
       "      <td>C</td>\n",
       "      <td>2</td>\n",
       "      <td>...</td>\n",
       "      <td>0.00</td>\n",
       "      <td>Jan-2016</td>\n",
       "      <td>0.0</td>\n",
       "      <td>1.0</td>\n",
       "      <td>INDIVIDUAL</td>\n",
       "      <td>0.0</td>\n",
       "      <td>NaN</td>\n",
       "      <td>NaN</td>\n",
       "      <td>NaN</td>\n",
       "      <td>0</td>\n",
       "    </tr>\n",
       "    <tr>\n",
       "      <th>27</th>\n",
       "      <td>1069657</td>\n",
       "      <td>1304764</td>\n",
       "      <td>5000.0</td>\n",
       "      <td>5000.0</td>\n",
       "      <td>5000.000000</td>\n",
       "      <td>60 months</td>\n",
       "      <td>16.77</td>\n",
       "      <td>123.65</td>\n",
       "      <td>D</td>\n",
       "      <td>2</td>\n",
       "      <td>...</td>\n",
       "      <td>123.65</td>\n",
       "      <td>May-2013</td>\n",
       "      <td>0.0</td>\n",
       "      <td>1.0</td>\n",
       "      <td>INDIVIDUAL</td>\n",
       "      <td>0.0</td>\n",
       "      <td>NaN</td>\n",
       "      <td>NaN</td>\n",
       "      <td>NaN</td>\n",
       "      <td>0</td>\n",
       "    </tr>\n",
       "    <tr>\n",
       "      <th>28</th>\n",
       "      <td>1069799</td>\n",
       "      <td>1304678</td>\n",
       "      <td>4000.0</td>\n",
       "      <td>4000.0</td>\n",
       "      <td>4000.000000</td>\n",
       "      <td>36 months</td>\n",
       "      <td>11.71</td>\n",
       "      <td>132.31</td>\n",
       "      <td>B</td>\n",
       "      <td>3</td>\n",
       "      <td>...</td>\n",
       "      <td>2638.77</td>\n",
       "      <td>Jan-2016</td>\n",
       "      <td>0.0</td>\n",
       "      <td>1.0</td>\n",
       "      <td>INDIVIDUAL</td>\n",
       "      <td>0.0</td>\n",
       "      <td>NaN</td>\n",
       "      <td>NaN</td>\n",
       "      <td>NaN</td>\n",
       "      <td>1</td>\n",
       "    </tr>\n",
       "    <tr>\n",
       "      <th>29</th>\n",
       "      <td>1047704</td>\n",
       "      <td>1278806</td>\n",
       "      <td>8500.0</td>\n",
       "      <td>8500.0</td>\n",
       "      <td>8500.000000</td>\n",
       "      <td>36 months</td>\n",
       "      <td>11.71</td>\n",
       "      <td>281.15</td>\n",
       "      <td>B</td>\n",
       "      <td>3</td>\n",
       "      <td>...</td>\n",
       "      <td>581.59</td>\n",
       "      <td>Jan-2015</td>\n",
       "      <td>0.0</td>\n",
       "      <td>1.0</td>\n",
       "      <td>INDIVIDUAL</td>\n",
       "      <td>0.0</td>\n",
       "      <td>NaN</td>\n",
       "      <td>NaN</td>\n",
       "      <td>NaN</td>\n",
       "      <td>1</td>\n",
       "    </tr>\n",
       "    <tr>\n",
       "      <th>30</th>\n",
       "      <td>1032111</td>\n",
       "      <td>1261745</td>\n",
       "      <td>4375.0</td>\n",
       "      <td>4375.0</td>\n",
       "      <td>4375.000000</td>\n",
       "      <td>36 months</td>\n",
       "      <td>7.51</td>\n",
       "      <td>136.11</td>\n",
       "      <td>A</td>\n",
       "      <td>3</td>\n",
       "      <td>...</td>\n",
       "      <td>144.94</td>\n",
       "      <td>Dec-2014</td>\n",
       "      <td>0.0</td>\n",
       "      <td>1.0</td>\n",
       "      <td>INDIVIDUAL</td>\n",
       "      <td>0.0</td>\n",
       "      <td>NaN</td>\n",
       "      <td>NaN</td>\n",
       "      <td>NaN</td>\n",
       "      <td>1</td>\n",
       "    </tr>\n",
       "    <tr>\n",
       "      <th>31</th>\n",
       "      <td>1069539</td>\n",
       "      <td>1304608</td>\n",
       "      <td>31825.0</td>\n",
       "      <td>31825.0</td>\n",
       "      <td>31825.000000</td>\n",
       "      <td>36 months</td>\n",
       "      <td>7.90</td>\n",
       "      <td>995.82</td>\n",
       "      <td>A</td>\n",
       "      <td>4</td>\n",
       "      <td>...</td>\n",
       "      <td>16966.70</td>\n",
       "      <td>Oct-2015</td>\n",
       "      <td>0.0</td>\n",
       "      <td>1.0</td>\n",
       "      <td>INDIVIDUAL</td>\n",
       "      <td>0.0</td>\n",
       "      <td>NaN</td>\n",
       "      <td>NaN</td>\n",
       "      <td>NaN</td>\n",
       "      <td>1</td>\n",
       "    </tr>\n",
       "    <tr>\n",
       "      <th>...</th>\n",
       "      <td>...</td>\n",
       "      <td>...</td>\n",
       "      <td>...</td>\n",
       "      <td>...</td>\n",
       "      <td>...</td>\n",
       "      <td>...</td>\n",
       "      <td>...</td>\n",
       "      <td>...</td>\n",
       "      <td>...</td>\n",
       "      <td>...</td>\n",
       "      <td>...</td>\n",
       "      <td>...</td>\n",
       "      <td>...</td>\n",
       "      <td>...</td>\n",
       "      <td>...</td>\n",
       "      <td>...</td>\n",
       "      <td>...</td>\n",
       "      <td>...</td>\n",
       "      <td>...</td>\n",
       "      <td>...</td>\n",
       "      <td>...</td>\n",
       "    </tr>\n",
       "    <tr>\n",
       "      <th>887198</th>\n",
       "      <td>37790415</td>\n",
       "      <td>40553149</td>\n",
       "      <td>30000.0</td>\n",
       "      <td>30000.0</td>\n",
       "      <td>30000.000000</td>\n",
       "      <td>36 months</td>\n",
       "      <td>14.99</td>\n",
       "      <td>1039.82</td>\n",
       "      <td>C</td>\n",
       "      <td>5</td>\n",
       "      <td>...</td>\n",
       "      <td>140.76</td>\n",
       "      <td>Dec-2015</td>\n",
       "      <td>0.0</td>\n",
       "      <td>1.0</td>\n",
       "      <td>INDIVIDUAL</td>\n",
       "      <td>0.0</td>\n",
       "      <td>0.0</td>\n",
       "      <td>302480.0</td>\n",
       "      <td>43100.0</td>\n",
       "      <td>1</td>\n",
       "    </tr>\n",
       "    <tr>\n",
       "      <th>887202</th>\n",
       "      <td>36118265</td>\n",
       "      <td>38829794</td>\n",
       "      <td>12000.0</td>\n",
       "      <td>12000.0</td>\n",
       "      <td>12000.000000</td>\n",
       "      <td>36 months</td>\n",
       "      <td>11.99</td>\n",
       "      <td>398.52</td>\n",
       "      <td>B</td>\n",
       "      <td>5</td>\n",
       "      <td>...</td>\n",
       "      <td>9178.83</td>\n",
       "      <td>Dec-2015</td>\n",
       "      <td>0.0</td>\n",
       "      <td>1.0</td>\n",
       "      <td>INDIVIDUAL</td>\n",
       "      <td>0.0</td>\n",
       "      <td>0.0</td>\n",
       "      <td>19865.0</td>\n",
       "      <td>29100.0</td>\n",
       "      <td>1</td>\n",
       "    </tr>\n",
       "    <tr>\n",
       "      <th>887215</th>\n",
       "      <td>36400285</td>\n",
       "      <td>39031612</td>\n",
       "      <td>12825.0</td>\n",
       "      <td>12825.0</td>\n",
       "      <td>12825.000000</td>\n",
       "      <td>36 months</td>\n",
       "      <td>17.14</td>\n",
       "      <td>458.15</td>\n",
       "      <td>D</td>\n",
       "      <td>4</td>\n",
       "      <td>...</td>\n",
       "      <td>12170.64</td>\n",
       "      <td>May-2015</td>\n",
       "      <td>0.0</td>\n",
       "      <td>1.0</td>\n",
       "      <td>INDIVIDUAL</td>\n",
       "      <td>0.0</td>\n",
       "      <td>0.0</td>\n",
       "      <td>131124.0</td>\n",
       "      <td>16800.0</td>\n",
       "      <td>1</td>\n",
       "    </tr>\n",
       "    <tr>\n",
       "      <th>887231</th>\n",
       "      <td>37830269</td>\n",
       "      <td>40593005</td>\n",
       "      <td>7675.0</td>\n",
       "      <td>7675.0</td>\n",
       "      <td>7675.000000</td>\n",
       "      <td>36 months</td>\n",
       "      <td>15.59</td>\n",
       "      <td>268.28</td>\n",
       "      <td>D</td>\n",
       "      <td>1</td>\n",
       "      <td>...</td>\n",
       "      <td>268.28</td>\n",
       "      <td>Jan-2016</td>\n",
       "      <td>0.0</td>\n",
       "      <td>1.0</td>\n",
       "      <td>INDIVIDUAL</td>\n",
       "      <td>0.0</td>\n",
       "      <td>0.0</td>\n",
       "      <td>78891.0</td>\n",
       "      <td>31300.0</td>\n",
       "      <td>0</td>\n",
       "    </tr>\n",
       "    <tr>\n",
       "      <th>887248</th>\n",
       "      <td>37117178</td>\n",
       "      <td>39889901</td>\n",
       "      <td>12000.0</td>\n",
       "      <td>12000.0</td>\n",
       "      <td>12000.000000</td>\n",
       "      <td>36 months</td>\n",
       "      <td>12.39</td>\n",
       "      <td>400.82</td>\n",
       "      <td>C</td>\n",
       "      <td>1</td>\n",
       "      <td>...</td>\n",
       "      <td>400.82</td>\n",
       "      <td>Jan-2016</td>\n",
       "      <td>0.0</td>\n",
       "      <td>1.0</td>\n",
       "      <td>INDIVIDUAL</td>\n",
       "      <td>0.0</td>\n",
       "      <td>0.0</td>\n",
       "      <td>236495.0</td>\n",
       "      <td>29700.0</td>\n",
       "      <td>0</td>\n",
       "    </tr>\n",
       "    <tr>\n",
       "      <th>887249</th>\n",
       "      <td>37357154</td>\n",
       "      <td>40119871</td>\n",
       "      <td>27650.0</td>\n",
       "      <td>27650.0</td>\n",
       "      <td>27650.000000</td>\n",
       "      <td>60 months</td>\n",
       "      <td>21.99</td>\n",
       "      <td>763.51</td>\n",
       "      <td>E</td>\n",
       "      <td>5</td>\n",
       "      <td>...</td>\n",
       "      <td>27645.25</td>\n",
       "      <td>Jan-2015</td>\n",
       "      <td>0.0</td>\n",
       "      <td>1.0</td>\n",
       "      <td>INDIVIDUAL</td>\n",
       "      <td>0.0</td>\n",
       "      <td>0.0</td>\n",
       "      <td>18671.0</td>\n",
       "      <td>30500.0</td>\n",
       "      <td>1</td>\n",
       "    </tr>\n",
       "    <tr>\n",
       "      <th>887254</th>\n",
       "      <td>37068125</td>\n",
       "      <td>39536839</td>\n",
       "      <td>7200.0</td>\n",
       "      <td>7200.0</td>\n",
       "      <td>7200.000000</td>\n",
       "      <td>36 months</td>\n",
       "      <td>14.99</td>\n",
       "      <td>249.56</td>\n",
       "      <td>C</td>\n",
       "      <td>5</td>\n",
       "      <td>...</td>\n",
       "      <td>249.56</td>\n",
       "      <td>Jan-2016</td>\n",
       "      <td>0.0</td>\n",
       "      <td>1.0</td>\n",
       "      <td>INDIVIDUAL</td>\n",
       "      <td>0.0</td>\n",
       "      <td>0.0</td>\n",
       "      <td>78489.0</td>\n",
       "      <td>11900.0</td>\n",
       "      <td>0</td>\n",
       "    </tr>\n",
       "    <tr>\n",
       "      <th>887258</th>\n",
       "      <td>37147964</td>\n",
       "      <td>39920782</td>\n",
       "      <td>28500.0</td>\n",
       "      <td>28500.0</td>\n",
       "      <td>28500.000000</td>\n",
       "      <td>36 months</td>\n",
       "      <td>19.24</td>\n",
       "      <td>1048.16</td>\n",
       "      <td>E</td>\n",
       "      <td>2</td>\n",
       "      <td>...</td>\n",
       "      <td>1048.16</td>\n",
       "      <td>Jan-2016</td>\n",
       "      <td>0.0</td>\n",
       "      <td>1.0</td>\n",
       "      <td>INDIVIDUAL</td>\n",
       "      <td>0.0</td>\n",
       "      <td>0.0</td>\n",
       "      <td>42700.0</td>\n",
       "      <td>65000.0</td>\n",
       "      <td>0</td>\n",
       "    </tr>\n",
       "    <tr>\n",
       "      <th>887263</th>\n",
       "      <td>37317965</td>\n",
       "      <td>40080791</td>\n",
       "      <td>25000.0</td>\n",
       "      <td>25000.0</td>\n",
       "      <td>25000.000000</td>\n",
       "      <td>60 months</td>\n",
       "      <td>12.39</td>\n",
       "      <td>561.06</td>\n",
       "      <td>C</td>\n",
       "      <td>1</td>\n",
       "      <td>...</td>\n",
       "      <td>22199.24</td>\n",
       "      <td>Dec-2015</td>\n",
       "      <td>0.0</td>\n",
       "      <td>1.0</td>\n",
       "      <td>INDIVIDUAL</td>\n",
       "      <td>0.0</td>\n",
       "      <td>0.0</td>\n",
       "      <td>993967.0</td>\n",
       "      <td>120600.0</td>\n",
       "      <td>1</td>\n",
       "    </tr>\n",
       "    <tr>\n",
       "      <th>887264</th>\n",
       "      <td>36801355</td>\n",
       "      <td>39554067</td>\n",
       "      <td>20000.0</td>\n",
       "      <td>20000.0</td>\n",
       "      <td>20000.000000</td>\n",
       "      <td>36 months</td>\n",
       "      <td>12.99</td>\n",
       "      <td>673.79</td>\n",
       "      <td>C</td>\n",
       "      <td>2</td>\n",
       "      <td>...</td>\n",
       "      <td>16534.04</td>\n",
       "      <td>Oct-2015</td>\n",
       "      <td>0.0</td>\n",
       "      <td>1.0</td>\n",
       "      <td>INDIVIDUAL</td>\n",
       "      <td>0.0</td>\n",
       "      <td>0.0</td>\n",
       "      <td>41272.0</td>\n",
       "      <td>18200.0</td>\n",
       "      <td>1</td>\n",
       "    </tr>\n",
       "    <tr>\n",
       "      <th>887268</th>\n",
       "      <td>37297854</td>\n",
       "      <td>40040662</td>\n",
       "      <td>20000.0</td>\n",
       "      <td>20000.0</td>\n",
       "      <td>20000.000000</td>\n",
       "      <td>36 months</td>\n",
       "      <td>14.99</td>\n",
       "      <td>693.21</td>\n",
       "      <td>C</td>\n",
       "      <td>5</td>\n",
       "      <td>...</td>\n",
       "      <td>100.00</td>\n",
       "      <td>Jan-2016</td>\n",
       "      <td>0.0</td>\n",
       "      <td>1.0</td>\n",
       "      <td>INDIVIDUAL</td>\n",
       "      <td>0.0</td>\n",
       "      <td>0.0</td>\n",
       "      <td>359329.0</td>\n",
       "      <td>38300.0</td>\n",
       "      <td>0</td>\n",
       "    </tr>\n",
       "    <tr>\n",
       "      <th>887275</th>\n",
       "      <td>37247819</td>\n",
       "      <td>40020610</td>\n",
       "      <td>29675.0</td>\n",
       "      <td>29675.0</td>\n",
       "      <td>29675.000000</td>\n",
       "      <td>60 months</td>\n",
       "      <td>13.66</td>\n",
       "      <td>685.27</td>\n",
       "      <td>C</td>\n",
       "      <td>3</td>\n",
       "      <td>...</td>\n",
       "      <td>685.27</td>\n",
       "      <td>Dec-2015</td>\n",
       "      <td>0.0</td>\n",
       "      <td>1.0</td>\n",
       "      <td>INDIVIDUAL</td>\n",
       "      <td>0.0</td>\n",
       "      <td>0.0</td>\n",
       "      <td>351558.0</td>\n",
       "      <td>45400.0</td>\n",
       "      <td>0</td>\n",
       "    </tr>\n",
       "    <tr>\n",
       "      <th>887276</th>\n",
       "      <td>37257620</td>\n",
       "      <td>40030388</td>\n",
       "      <td>25000.0</td>\n",
       "      <td>25000.0</td>\n",
       "      <td>25000.000000</td>\n",
       "      <td>36 months</td>\n",
       "      <td>20.99</td>\n",
       "      <td>941.75</td>\n",
       "      <td>E</td>\n",
       "      <td>4</td>\n",
       "      <td>...</td>\n",
       "      <td>941.75</td>\n",
       "      <td>Jan-2016</td>\n",
       "      <td>0.0</td>\n",
       "      <td>1.0</td>\n",
       "      <td>INDIVIDUAL</td>\n",
       "      <td>0.0</td>\n",
       "      <td>0.0</td>\n",
       "      <td>167189.0</td>\n",
       "      <td>35500.0</td>\n",
       "      <td>0</td>\n",
       "    </tr>\n",
       "    <tr>\n",
       "      <th>887279</th>\n",
       "      <td>37127712</td>\n",
       "      <td>39900482</td>\n",
       "      <td>5875.0</td>\n",
       "      <td>5875.0</td>\n",
       "      <td>5875.000000</td>\n",
       "      <td>36 months</td>\n",
       "      <td>16.49</td>\n",
       "      <td>207.98</td>\n",
       "      <td>D</td>\n",
       "      <td>3</td>\n",
       "      <td>...</td>\n",
       "      <td>4641.13</td>\n",
       "      <td>Jan-2016</td>\n",
       "      <td>0.0</td>\n",
       "      <td>1.0</td>\n",
       "      <td>INDIVIDUAL</td>\n",
       "      <td>0.0</td>\n",
       "      <td>0.0</td>\n",
       "      <td>19098.0</td>\n",
       "      <td>10300.0</td>\n",
       "      <td>1</td>\n",
       "    </tr>\n",
       "    <tr>\n",
       "      <th>887280</th>\n",
       "      <td>35998858</td>\n",
       "      <td>38700420</td>\n",
       "      <td>5875.0</td>\n",
       "      <td>5875.0</td>\n",
       "      <td>5875.000000</td>\n",
       "      <td>36 months</td>\n",
       "      <td>15.59</td>\n",
       "      <td>205.37</td>\n",
       "      <td>D</td>\n",
       "      <td>1</td>\n",
       "      <td>...</td>\n",
       "      <td>410.74</td>\n",
       "      <td>Jan-2016</td>\n",
       "      <td>0.0</td>\n",
       "      <td>1.0</td>\n",
       "      <td>INDIVIDUAL</td>\n",
       "      <td>0.0</td>\n",
       "      <td>0.0</td>\n",
       "      <td>174030.0</td>\n",
       "      <td>12300.0</td>\n",
       "      <td>0</td>\n",
       "    </tr>\n",
       "    <tr>\n",
       "      <th>887290</th>\n",
       "      <td>37167534</td>\n",
       "      <td>39940303</td>\n",
       "      <td>35000.0</td>\n",
       "      <td>35000.0</td>\n",
       "      <td>35000.000000</td>\n",
       "      <td>60 months</td>\n",
       "      <td>24.99</td>\n",
       "      <td>1027.10</td>\n",
       "      <td>F</td>\n",
       "      <td>4</td>\n",
       "      <td>...</td>\n",
       "      <td>1027.10</td>\n",
       "      <td>Sep-2015</td>\n",
       "      <td>0.0</td>\n",
       "      <td>1.0</td>\n",
       "      <td>INDIVIDUAL</td>\n",
       "      <td>0.0</td>\n",
       "      <td>0.0</td>\n",
       "      <td>603744.0</td>\n",
       "      <td>31300.0</td>\n",
       "      <td>0</td>\n",
       "    </tr>\n",
       "    <tr>\n",
       "      <th>887303</th>\n",
       "      <td>37087435</td>\n",
       "      <td>39850186</td>\n",
       "      <td>12000.0</td>\n",
       "      <td>12000.0</td>\n",
       "      <td>12000.000000</td>\n",
       "      <td>36 months</td>\n",
       "      <td>17.86</td>\n",
       "      <td>432.99</td>\n",
       "      <td>D</td>\n",
       "      <td>5</td>\n",
       "      <td>...</td>\n",
       "      <td>432.99</td>\n",
       "      <td>Jan-2016</td>\n",
       "      <td>0.0</td>\n",
       "      <td>1.0</td>\n",
       "      <td>INDIVIDUAL</td>\n",
       "      <td>0.0</td>\n",
       "      <td>0.0</td>\n",
       "      <td>51882.0</td>\n",
       "      <td>3800.0</td>\n",
       "      <td>0</td>\n",
       "    </tr>\n",
       "    <tr>\n",
       "      <th>887308</th>\n",
       "      <td>37227443</td>\n",
       "      <td>40000189</td>\n",
       "      <td>2725.0</td>\n",
       "      <td>2725.0</td>\n",
       "      <td>2725.000000</td>\n",
       "      <td>36 months</td>\n",
       "      <td>17.86</td>\n",
       "      <td>98.33</td>\n",
       "      <td>D</td>\n",
       "      <td>5</td>\n",
       "      <td>...</td>\n",
       "      <td>98.33</td>\n",
       "      <td>Jan-2016</td>\n",
       "      <td>0.0</td>\n",
       "      <td>1.0</td>\n",
       "      <td>INDIVIDUAL</td>\n",
       "      <td>0.0</td>\n",
       "      <td>0.0</td>\n",
       "      <td>162837.0</td>\n",
       "      <td>5800.0</td>\n",
       "      <td>0</td>\n",
       "    </tr>\n",
       "    <tr>\n",
       "      <th>887322</th>\n",
       "      <td>37317288</td>\n",
       "      <td>40080027</td>\n",
       "      <td>10000.0</td>\n",
       "      <td>10000.0</td>\n",
       "      <td>10000.000000</td>\n",
       "      <td>60 months</td>\n",
       "      <td>23.99</td>\n",
       "      <td>287.63</td>\n",
       "      <td>F</td>\n",
       "      <td>2</td>\n",
       "      <td>...</td>\n",
       "      <td>590.26</td>\n",
       "      <td>Jan-2016</td>\n",
       "      <td>0.0</td>\n",
       "      <td>1.0</td>\n",
       "      <td>INDIVIDUAL</td>\n",
       "      <td>0.0</td>\n",
       "      <td>0.0</td>\n",
       "      <td>8529.0</td>\n",
       "      <td>7200.0</td>\n",
       "      <td>0</td>\n",
       "    </tr>\n",
       "    <tr>\n",
       "      <th>887330</th>\n",
       "      <td>37077186</td>\n",
       "      <td>39839905</td>\n",
       "      <td>14000.0</td>\n",
       "      <td>14000.0</td>\n",
       "      <td>14000.000000</td>\n",
       "      <td>36 months</td>\n",
       "      <td>15.99</td>\n",
       "      <td>492.13</td>\n",
       "      <td>D</td>\n",
       "      <td>2</td>\n",
       "      <td>...</td>\n",
       "      <td>492.13</td>\n",
       "      <td>Jan-2016</td>\n",
       "      <td>0.0</td>\n",
       "      <td>1.0</td>\n",
       "      <td>INDIVIDUAL</td>\n",
       "      <td>0.0</td>\n",
       "      <td>0.0</td>\n",
       "      <td>22279.0</td>\n",
       "      <td>12100.0</td>\n",
       "      <td>0</td>\n",
       "    </tr>\n",
       "    <tr>\n",
       "      <th>887332</th>\n",
       "      <td>37187152</td>\n",
       "      <td>39959868</td>\n",
       "      <td>15000.0</td>\n",
       "      <td>15000.0</td>\n",
       "      <td>15000.000000</td>\n",
       "      <td>36 months</td>\n",
       "      <td>12.39</td>\n",
       "      <td>501.02</td>\n",
       "      <td>C</td>\n",
       "      <td>1</td>\n",
       "      <td>...</td>\n",
       "      <td>12683.97</td>\n",
       "      <td>Jan-2016</td>\n",
       "      <td>0.0</td>\n",
       "      <td>1.0</td>\n",
       "      <td>INDIVIDUAL</td>\n",
       "      <td>0.0</td>\n",
       "      <td>0.0</td>\n",
       "      <td>186375.0</td>\n",
       "      <td>39000.0</td>\n",
       "      <td>1</td>\n",
       "    </tr>\n",
       "    <tr>\n",
       "      <th>887337</th>\n",
       "      <td>36200493</td>\n",
       "      <td>38911833</td>\n",
       "      <td>19600.0</td>\n",
       "      <td>19600.0</td>\n",
       "      <td>19600.000000</td>\n",
       "      <td>60 months</td>\n",
       "      <td>14.31</td>\n",
       "      <td>459.22</td>\n",
       "      <td>C</td>\n",
       "      <td>4</td>\n",
       "      <td>...</td>\n",
       "      <td>459.22</td>\n",
       "      <td>Jan-2016</td>\n",
       "      <td>0.0</td>\n",
       "      <td>1.0</td>\n",
       "      <td>INDIVIDUAL</td>\n",
       "      <td>0.0</td>\n",
       "      <td>0.0</td>\n",
       "      <td>141120.0</td>\n",
       "      <td>233000.0</td>\n",
       "      <td>0</td>\n",
       "    </tr>\n",
       "    <tr>\n",
       "      <th>887345</th>\n",
       "      <td>37011266</td>\n",
       "      <td>39773999</td>\n",
       "      <td>28000.0</td>\n",
       "      <td>28000.0</td>\n",
       "      <td>28000.000000</td>\n",
       "      <td>36 months</td>\n",
       "      <td>15.59</td>\n",
       "      <td>978.74</td>\n",
       "      <td>D</td>\n",
       "      <td>1</td>\n",
       "      <td>...</td>\n",
       "      <td>978.74</td>\n",
       "      <td>Jan-2016</td>\n",
       "      <td>0.0</td>\n",
       "      <td>1.0</td>\n",
       "      <td>INDIVIDUAL</td>\n",
       "      <td>0.0</td>\n",
       "      <td>0.0</td>\n",
       "      <td>74969.0</td>\n",
       "      <td>43500.0</td>\n",
       "      <td>0</td>\n",
       "    </tr>\n",
       "    <tr>\n",
       "      <th>887346</th>\n",
       "      <td>36808246</td>\n",
       "      <td>39560970</td>\n",
       "      <td>6000.0</td>\n",
       "      <td>6000.0</td>\n",
       "      <td>6000.000000</td>\n",
       "      <td>36 months</td>\n",
       "      <td>10.49</td>\n",
       "      <td>194.99</td>\n",
       "      <td>B</td>\n",
       "      <td>3</td>\n",
       "      <td>...</td>\n",
       "      <td>4717.46</td>\n",
       "      <td>Nov-2015</td>\n",
       "      <td>0.0</td>\n",
       "      <td>1.0</td>\n",
       "      <td>INDIVIDUAL</td>\n",
       "      <td>0.0</td>\n",
       "      <td>2140.0</td>\n",
       "      <td>4419.0</td>\n",
       "      <td>43400.0</td>\n",
       "      <td>1</td>\n",
       "    </tr>\n",
       "    <tr>\n",
       "      <th>887347</th>\n",
       "      <td>37041208</td>\n",
       "      <td>39803931</td>\n",
       "      <td>17000.0</td>\n",
       "      <td>17000.0</td>\n",
       "      <td>17000.000000</td>\n",
       "      <td>60 months</td>\n",
       "      <td>15.99</td>\n",
       "      <td>413.32</td>\n",
       "      <td>D</td>\n",
       "      <td>2</td>\n",
       "      <td>...</td>\n",
       "      <td>15.29</td>\n",
       "      <td>Feb-2015</td>\n",
       "      <td>0.0</td>\n",
       "      <td>1.0</td>\n",
       "      <td>INDIVIDUAL</td>\n",
       "      <td>0.0</td>\n",
       "      <td>0.0</td>\n",
       "      <td>125541.0</td>\n",
       "      <td>20500.0</td>\n",
       "      <td>1</td>\n",
       "    </tr>\n",
       "    <tr>\n",
       "      <th>887351</th>\n",
       "      <td>36743377</td>\n",
       "      <td>39486112</td>\n",
       "      <td>4200.0</td>\n",
       "      <td>4200.0</td>\n",
       "      <td>4200.000000</td>\n",
       "      <td>36 months</td>\n",
       "      <td>15.99</td>\n",
       "      <td>147.64</td>\n",
       "      <td>D</td>\n",
       "      <td>2</td>\n",
       "      <td>...</td>\n",
       "      <td>147.64</td>\n",
       "      <td>Jan-2016</td>\n",
       "      <td>0.0</td>\n",
       "      <td>1.0</td>\n",
       "      <td>INDIVIDUAL</td>\n",
       "      <td>0.0</td>\n",
       "      <td>0.0</td>\n",
       "      <td>207975.0</td>\n",
       "      <td>20400.0</td>\n",
       "      <td>0</td>\n",
       "    </tr>\n",
       "    <tr>\n",
       "      <th>887364</th>\n",
       "      <td>36231718</td>\n",
       "      <td>38943165</td>\n",
       "      <td>10775.0</td>\n",
       "      <td>10775.0</td>\n",
       "      <td>10775.000000</td>\n",
       "      <td>36 months</td>\n",
       "      <td>6.03</td>\n",
       "      <td>327.95</td>\n",
       "      <td>A</td>\n",
       "      <td>1</td>\n",
       "      <td>...</td>\n",
       "      <td>9439.34</td>\n",
       "      <td>Jun-2015</td>\n",
       "      <td>0.0</td>\n",
       "      <td>1.0</td>\n",
       "      <td>INDIVIDUAL</td>\n",
       "      <td>0.0</td>\n",
       "      <td>0.0</td>\n",
       "      <td>24696.0</td>\n",
       "      <td>41700.0</td>\n",
       "      <td>1</td>\n",
       "    </tr>\n",
       "    <tr>\n",
       "      <th>887366</th>\n",
       "      <td>36241316</td>\n",
       "      <td>38952731</td>\n",
       "      <td>6225.0</td>\n",
       "      <td>6225.0</td>\n",
       "      <td>6225.000000</td>\n",
       "      <td>36 months</td>\n",
       "      <td>16.49</td>\n",
       "      <td>220.37</td>\n",
       "      <td>D</td>\n",
       "      <td>3</td>\n",
       "      <td>...</td>\n",
       "      <td>4858.17</td>\n",
       "      <td>Dec-2015</td>\n",
       "      <td>0.0</td>\n",
       "      <td>1.0</td>\n",
       "      <td>INDIVIDUAL</td>\n",
       "      <td>0.0</td>\n",
       "      <td>0.0</td>\n",
       "      <td>8357.0</td>\n",
       "      <td>1800.0</td>\n",
       "      <td>1</td>\n",
       "    </tr>\n",
       "    <tr>\n",
       "      <th>887369</th>\n",
       "      <td>36421485</td>\n",
       "      <td>39142898</td>\n",
       "      <td>4000.0</td>\n",
       "      <td>4000.0</td>\n",
       "      <td>4000.000000</td>\n",
       "      <td>36 months</td>\n",
       "      <td>8.67</td>\n",
       "      <td>126.59</td>\n",
       "      <td>B</td>\n",
       "      <td>1</td>\n",
       "      <td>...</td>\n",
       "      <td>3655.51</td>\n",
       "      <td>Nov-2015</td>\n",
       "      <td>0.0</td>\n",
       "      <td>1.0</td>\n",
       "      <td>INDIVIDUAL</td>\n",
       "      <td>0.0</td>\n",
       "      <td>0.0</td>\n",
       "      <td>18979.0</td>\n",
       "      <td>30100.0</td>\n",
       "      <td>1</td>\n",
       "    </tr>\n",
       "    <tr>\n",
       "      <th>887371</th>\n",
       "      <td>36260758</td>\n",
       "      <td>38972123</td>\n",
       "      <td>10850.0</td>\n",
       "      <td>10850.0</td>\n",
       "      <td>10850.000000</td>\n",
       "      <td>36 months</td>\n",
       "      <td>19.24</td>\n",
       "      <td>399.04</td>\n",
       "      <td>E</td>\n",
       "      <td>2</td>\n",
       "      <td>...</td>\n",
       "      <td>25.00</td>\n",
       "      <td>Jan-2016</td>\n",
       "      <td>0.0</td>\n",
       "      <td>1.0</td>\n",
       "      <td>INDIVIDUAL</td>\n",
       "      <td>0.0</td>\n",
       "      <td>972.0</td>\n",
       "      <td>53777.0</td>\n",
       "      <td>16800.0</td>\n",
       "      <td>0</td>\n",
       "    </tr>\n",
       "  </tbody>\n",
       "</table>\n",
       "<p>277140 rows × 52 columns</p>\n",
       "</div>"
      ],
      "text/plain": [
       "              id  member_id  loan_amnt  funded_amnt  funded_amnt_inv  \\\n",
       "0        1077501    1296599     5000.0       5000.0      4975.000000   \n",
       "1        1077430    1314167     2500.0       2500.0      2500.000000   \n",
       "2        1077175    1313524     2400.0       2400.0      2400.000000   \n",
       "3        1076863    1277178    10000.0      10000.0     10000.000000   \n",
       "5        1075269    1311441     5000.0       5000.0      5000.000000   \n",
       "7        1072053    1288686     3000.0       3000.0      3000.000000   \n",
       "8        1071795    1306957     5600.0       5600.0      5600.000000   \n",
       "9        1071570    1306721     5375.0       5375.0      5350.000000   \n",
       "10       1070078    1305201     6500.0       6500.0      6500.000000   \n",
       "11       1069908    1305008    12000.0      12000.0     12000.000000   \n",
       "12       1064687    1298717     9000.0       9000.0      9000.000000   \n",
       "13       1069866    1304956     3000.0       3000.0      3000.000000   \n",
       "14       1069057    1303503    10000.0      10000.0     10000.000000   \n",
       "15       1069759    1304871     1000.0       1000.0      1000.000000   \n",
       "16       1065775    1299699    10000.0      10000.0     10000.000000   \n",
       "17       1069971    1304884     3600.0       3600.0      3600.000000   \n",
       "18       1062474    1294539     6000.0       6000.0      6000.000000   \n",
       "19       1069742    1304855     9200.0       9200.0      9200.000000   \n",
       "20       1069740    1284848    20250.0      20250.0     19142.161077   \n",
       "21       1039153    1269083    21000.0      21000.0     21000.000000   \n",
       "22       1069710    1304821    10000.0      10000.0     10000.000000   \n",
       "23       1069700    1304810    10000.0      10000.0     10000.000000   \n",
       "24       1069559    1304634     6000.0       6000.0      6000.000000   \n",
       "25       1069697    1273773    15000.0      15000.0     15000.000000   \n",
       "26       1069800    1304679    15000.0      15000.0      8725.000000   \n",
       "27       1069657    1304764     5000.0       5000.0      5000.000000   \n",
       "28       1069799    1304678     4000.0       4000.0      4000.000000   \n",
       "29       1047704    1278806     8500.0       8500.0      8500.000000   \n",
       "30       1032111    1261745     4375.0       4375.0      4375.000000   \n",
       "31       1069539    1304608    31825.0      31825.0     31825.000000   \n",
       "...          ...        ...        ...          ...              ...   \n",
       "887198  37790415   40553149    30000.0      30000.0     30000.000000   \n",
       "887202  36118265   38829794    12000.0      12000.0     12000.000000   \n",
       "887215  36400285   39031612    12825.0      12825.0     12825.000000   \n",
       "887231  37830269   40593005     7675.0       7675.0      7675.000000   \n",
       "887248  37117178   39889901    12000.0      12000.0     12000.000000   \n",
       "887249  37357154   40119871    27650.0      27650.0     27650.000000   \n",
       "887254  37068125   39536839     7200.0       7200.0      7200.000000   \n",
       "887258  37147964   39920782    28500.0      28500.0     28500.000000   \n",
       "887263  37317965   40080791    25000.0      25000.0     25000.000000   \n",
       "887264  36801355   39554067    20000.0      20000.0     20000.000000   \n",
       "887268  37297854   40040662    20000.0      20000.0     20000.000000   \n",
       "887275  37247819   40020610    29675.0      29675.0     29675.000000   \n",
       "887276  37257620   40030388    25000.0      25000.0     25000.000000   \n",
       "887279  37127712   39900482     5875.0       5875.0      5875.000000   \n",
       "887280  35998858   38700420     5875.0       5875.0      5875.000000   \n",
       "887290  37167534   39940303    35000.0      35000.0     35000.000000   \n",
       "887303  37087435   39850186    12000.0      12000.0     12000.000000   \n",
       "887308  37227443   40000189     2725.0       2725.0      2725.000000   \n",
       "887322  37317288   40080027    10000.0      10000.0     10000.000000   \n",
       "887330  37077186   39839905    14000.0      14000.0     14000.000000   \n",
       "887332  37187152   39959868    15000.0      15000.0     15000.000000   \n",
       "887337  36200493   38911833    19600.0      19600.0     19600.000000   \n",
       "887345  37011266   39773999    28000.0      28000.0     28000.000000   \n",
       "887346  36808246   39560970     6000.0       6000.0      6000.000000   \n",
       "887347  37041208   39803931    17000.0      17000.0     17000.000000   \n",
       "887351  36743377   39486112     4200.0       4200.0      4200.000000   \n",
       "887364  36231718   38943165    10775.0      10775.0     10775.000000   \n",
       "887366  36241316   38952731     6225.0       6225.0      6225.000000   \n",
       "887369  36421485   39142898     4000.0       4000.0      4000.000000   \n",
       "887371  36260758   38972123    10850.0      10850.0     10850.000000   \n",
       "\n",
       "              term  int_rate  installment grade  sub_grade        ...         \\\n",
       "0        36 months     10.65       162.87     B          2        ...          \n",
       "1        60 months     15.27        59.83     C          4        ...          \n",
       "2        36 months     15.96        84.33     C          5        ...          \n",
       "3        36 months     13.49       339.31     C          1        ...          \n",
       "5        36 months      7.90       156.46     A          4        ...          \n",
       "7        36 months     18.64       109.43     E          1        ...          \n",
       "8        60 months     21.28       152.39     F          2        ...          \n",
       "9        60 months     12.69       121.45     B          5        ...          \n",
       "10       60 months     14.65       153.45     C          3        ...          \n",
       "11       36 months     12.69       402.54     B          5        ...          \n",
       "12       36 months     13.49       305.38     C          1        ...          \n",
       "13       36 months      9.91        96.68     B          1        ...          \n",
       "14       36 months     10.65       325.74     B          2        ...          \n",
       "15       36 months     16.29        35.31     D          1        ...          \n",
       "16       36 months     15.27       347.98     C          4        ...          \n",
       "17       36 months      6.03       109.57     A          1        ...          \n",
       "18       36 months     11.71       198.46     B          3        ...          \n",
       "19       36 months      6.03       280.01     A          1        ...          \n",
       "20       60 months     15.27       484.63     C          4        ...          \n",
       "21       36 months     12.42       701.73     B          4        ...          \n",
       "22       36 months     11.71       330.76     B          3        ...          \n",
       "23       36 months     11.71       330.76     B          3        ...          \n",
       "24       36 months     11.71       198.46     B          3        ...          \n",
       "25       36 months      9.91       483.38     B          1        ...          \n",
       "26       36 months     14.27       514.64     C          2        ...          \n",
       "27       60 months     16.77       123.65     D          2        ...          \n",
       "28       36 months     11.71       132.31     B          3        ...          \n",
       "29       36 months     11.71       281.15     B          3        ...          \n",
       "30       36 months      7.51       136.11     A          3        ...          \n",
       "31       36 months      7.90       995.82     A          4        ...          \n",
       "...            ...       ...          ...   ...        ...        ...          \n",
       "887198   36 months     14.99      1039.82     C          5        ...          \n",
       "887202   36 months     11.99       398.52     B          5        ...          \n",
       "887215   36 months     17.14       458.15     D          4        ...          \n",
       "887231   36 months     15.59       268.28     D          1        ...          \n",
       "887248   36 months     12.39       400.82     C          1        ...          \n",
       "887249   60 months     21.99       763.51     E          5        ...          \n",
       "887254   36 months     14.99       249.56     C          5        ...          \n",
       "887258   36 months     19.24      1048.16     E          2        ...          \n",
       "887263   60 months     12.39       561.06     C          1        ...          \n",
       "887264   36 months     12.99       673.79     C          2        ...          \n",
       "887268   36 months     14.99       693.21     C          5        ...          \n",
       "887275   60 months     13.66       685.27     C          3        ...          \n",
       "887276   36 months     20.99       941.75     E          4        ...          \n",
       "887279   36 months     16.49       207.98     D          3        ...          \n",
       "887280   36 months     15.59       205.37     D          1        ...          \n",
       "887290   60 months     24.99      1027.10     F          4        ...          \n",
       "887303   36 months     17.86       432.99     D          5        ...          \n",
       "887308   36 months     17.86        98.33     D          5        ...          \n",
       "887322   60 months     23.99       287.63     F          2        ...          \n",
       "887330   36 months     15.99       492.13     D          2        ...          \n",
       "887332   36 months     12.39       501.02     C          1        ...          \n",
       "887337   60 months     14.31       459.22     C          4        ...          \n",
       "887345   36 months     15.59       978.74     D          1        ...          \n",
       "887346   36 months     10.49       194.99     B          3        ...          \n",
       "887347   60 months     15.99       413.32     D          2        ...          \n",
       "887351   36 months     15.99       147.64     D          2        ...          \n",
       "887364   36 months      6.03       327.95     A          1        ...          \n",
       "887366   36 months     16.49       220.37     D          3        ...          \n",
       "887369   36 months      8.67       126.59     B          1        ...          \n",
       "887371   36 months     19.24       399.04     E          2        ...          \n",
       "\n",
       "       last_pymnt_amnt last_credit_pull_d collections_12_mths_ex_med  \\\n",
       "0               171.62           Jan-2016                        0.0   \n",
       "1               119.66           Sep-2013                        0.0   \n",
       "2               649.91           Jan-2016                        0.0   \n",
       "3               357.48           Jan-2015                        0.0   \n",
       "5               161.03           Sep-2015                        0.0   \n",
       "7               111.34           Dec-2014                        0.0   \n",
       "8               152.39           Aug-2012                        0.0   \n",
       "9               121.45           Mar-2013                        0.0   \n",
       "10             1655.54           Dec-2015                        0.0   \n",
       "11             6315.30           Aug-2013                        0.0   \n",
       "12              305.38           Nov-2012                        0.0   \n",
       "13              102.43           Jan-2016                        0.0   \n",
       "14              325.74           Mar-2014                        0.0   \n",
       "15               36.32           Jan-2016                        0.0   \n",
       "16              370.46           Apr-2015                        0.0   \n",
       "17              583.45           May-2014                        0.0   \n",
       "18               16.98           Jul-2015                        0.0   \n",
       "19             8061.10           Jul-2012                        0.0   \n",
       "20             6024.09           Dec-2015                        0.0   \n",
       "21              701.73           Jan-2016                        0.0   \n",
       "22              349.21           Jan-2016                        0.0   \n",
       "23             4942.63           Mar-2014                        0.0   \n",
       "24              198.46           Mar-2013                        0.0   \n",
       "25             2447.05           Sep-2012                        0.0   \n",
       "26                0.00           Jan-2016                        0.0   \n",
       "27              123.65           May-2013                        0.0   \n",
       "28             2638.77           Jan-2016                        0.0   \n",
       "29              581.59           Jan-2015                        0.0   \n",
       "30              144.94           Dec-2014                        0.0   \n",
       "31            16966.70           Oct-2015                        0.0   \n",
       "...                ...                ...                        ...   \n",
       "887198          140.76           Dec-2015                        0.0   \n",
       "887202         9178.83           Dec-2015                        0.0   \n",
       "887215        12170.64           May-2015                        0.0   \n",
       "887231          268.28           Jan-2016                        0.0   \n",
       "887248          400.82           Jan-2016                        0.0   \n",
       "887249        27645.25           Jan-2015                        0.0   \n",
       "887254          249.56           Jan-2016                        0.0   \n",
       "887258         1048.16           Jan-2016                        0.0   \n",
       "887263        22199.24           Dec-2015                        0.0   \n",
       "887264        16534.04           Oct-2015                        0.0   \n",
       "887268          100.00           Jan-2016                        0.0   \n",
       "887275          685.27           Dec-2015                        0.0   \n",
       "887276          941.75           Jan-2016                        0.0   \n",
       "887279         4641.13           Jan-2016                        0.0   \n",
       "887280          410.74           Jan-2016                        0.0   \n",
       "887290         1027.10           Sep-2015                        0.0   \n",
       "887303          432.99           Jan-2016                        0.0   \n",
       "887308           98.33           Jan-2016                        0.0   \n",
       "887322          590.26           Jan-2016                        0.0   \n",
       "887330          492.13           Jan-2016                        0.0   \n",
       "887332        12683.97           Jan-2016                        0.0   \n",
       "887337          459.22           Jan-2016                        0.0   \n",
       "887345          978.74           Jan-2016                        0.0   \n",
       "887346         4717.46           Nov-2015                        0.0   \n",
       "887347           15.29           Feb-2015                        0.0   \n",
       "887351          147.64           Jan-2016                        0.0   \n",
       "887364         9439.34           Jun-2015                        0.0   \n",
       "887366         4858.17           Dec-2015                        0.0   \n",
       "887369         3655.51           Nov-2015                        0.0   \n",
       "887371           25.00           Jan-2016                        0.0   \n",
       "\n",
       "        policy_code application_type acc_now_delinq tot_coll_amt tot_cur_bal  \\\n",
       "0               1.0       INDIVIDUAL            0.0          NaN         NaN   \n",
       "1               1.0       INDIVIDUAL            0.0          NaN         NaN   \n",
       "2               1.0       INDIVIDUAL            0.0          NaN         NaN   \n",
       "3               1.0       INDIVIDUAL            0.0          NaN         NaN   \n",
       "5               1.0       INDIVIDUAL            0.0          NaN         NaN   \n",
       "7               1.0       INDIVIDUAL            0.0          NaN         NaN   \n",
       "8               1.0       INDIVIDUAL            0.0          NaN         NaN   \n",
       "9               1.0       INDIVIDUAL            0.0          NaN         NaN   \n",
       "10              1.0       INDIVIDUAL            0.0          NaN         NaN   \n",
       "11              1.0       INDIVIDUAL            0.0          NaN         NaN   \n",
       "12              1.0       INDIVIDUAL            0.0          NaN         NaN   \n",
       "13              1.0       INDIVIDUAL            0.0          NaN         NaN   \n",
       "14              1.0       INDIVIDUAL            0.0          NaN         NaN   \n",
       "15              1.0       INDIVIDUAL            0.0          NaN         NaN   \n",
       "16              1.0       INDIVIDUAL            0.0          NaN         NaN   \n",
       "17              1.0       INDIVIDUAL            0.0          NaN         NaN   \n",
       "18              1.0       INDIVIDUAL            0.0          NaN         NaN   \n",
       "19              1.0       INDIVIDUAL            0.0          NaN         NaN   \n",
       "20              1.0       INDIVIDUAL            0.0          NaN         NaN   \n",
       "21              1.0       INDIVIDUAL            0.0          NaN         NaN   \n",
       "22              1.0       INDIVIDUAL            0.0          NaN         NaN   \n",
       "23              1.0       INDIVIDUAL            0.0          NaN         NaN   \n",
       "24              1.0       INDIVIDUAL            0.0          NaN         NaN   \n",
       "25              1.0       INDIVIDUAL            0.0          NaN         NaN   \n",
       "26              1.0       INDIVIDUAL            0.0          NaN         NaN   \n",
       "27              1.0       INDIVIDUAL            0.0          NaN         NaN   \n",
       "28              1.0       INDIVIDUAL            0.0          NaN         NaN   \n",
       "29              1.0       INDIVIDUAL            0.0          NaN         NaN   \n",
       "30              1.0       INDIVIDUAL            0.0          NaN         NaN   \n",
       "31              1.0       INDIVIDUAL            0.0          NaN         NaN   \n",
       "...             ...              ...            ...          ...         ...   \n",
       "887198          1.0       INDIVIDUAL            0.0          0.0    302480.0   \n",
       "887202          1.0       INDIVIDUAL            0.0          0.0     19865.0   \n",
       "887215          1.0       INDIVIDUAL            0.0          0.0    131124.0   \n",
       "887231          1.0       INDIVIDUAL            0.0          0.0     78891.0   \n",
       "887248          1.0       INDIVIDUAL            0.0          0.0    236495.0   \n",
       "887249          1.0       INDIVIDUAL            0.0          0.0     18671.0   \n",
       "887254          1.0       INDIVIDUAL            0.0          0.0     78489.0   \n",
       "887258          1.0       INDIVIDUAL            0.0          0.0     42700.0   \n",
       "887263          1.0       INDIVIDUAL            0.0          0.0    993967.0   \n",
       "887264          1.0       INDIVIDUAL            0.0          0.0     41272.0   \n",
       "887268          1.0       INDIVIDUAL            0.0          0.0    359329.0   \n",
       "887275          1.0       INDIVIDUAL            0.0          0.0    351558.0   \n",
       "887276          1.0       INDIVIDUAL            0.0          0.0    167189.0   \n",
       "887279          1.0       INDIVIDUAL            0.0          0.0     19098.0   \n",
       "887280          1.0       INDIVIDUAL            0.0          0.0    174030.0   \n",
       "887290          1.0       INDIVIDUAL            0.0          0.0    603744.0   \n",
       "887303          1.0       INDIVIDUAL            0.0          0.0     51882.0   \n",
       "887308          1.0       INDIVIDUAL            0.0          0.0    162837.0   \n",
       "887322          1.0       INDIVIDUAL            0.0          0.0      8529.0   \n",
       "887330          1.0       INDIVIDUAL            0.0          0.0     22279.0   \n",
       "887332          1.0       INDIVIDUAL            0.0          0.0    186375.0   \n",
       "887337          1.0       INDIVIDUAL            0.0          0.0    141120.0   \n",
       "887345          1.0       INDIVIDUAL            0.0          0.0     74969.0   \n",
       "887346          1.0       INDIVIDUAL            0.0       2140.0      4419.0   \n",
       "887347          1.0       INDIVIDUAL            0.0          0.0    125541.0   \n",
       "887351          1.0       INDIVIDUAL            0.0          0.0    207975.0   \n",
       "887364          1.0       INDIVIDUAL            0.0          0.0     24696.0   \n",
       "887366          1.0       INDIVIDUAL            0.0          0.0      8357.0   \n",
       "887369          1.0       INDIVIDUAL            0.0          0.0     18979.0   \n",
       "887371          1.0       INDIVIDUAL            0.0        972.0     53777.0   \n",
       "\n",
       "       total_rev_hi_lim loan_status_coded  \n",
       "0                   NaN                 1  \n",
       "1                   NaN                 0  \n",
       "2                   NaN                 1  \n",
       "3                   NaN                 1  \n",
       "5                   NaN                 1  \n",
       "7                   NaN                 1  \n",
       "8                   NaN                 0  \n",
       "9                   NaN                 0  \n",
       "10                  NaN                 1  \n",
       "11                  NaN                 1  \n",
       "12                  NaN                 0  \n",
       "13                  NaN                 1  \n",
       "14                  NaN                 0  \n",
       "15                  NaN                 1  \n",
       "16                  NaN                 1  \n",
       "17                  NaN                 1  \n",
       "18                  NaN                 1  \n",
       "19                  NaN                 1  \n",
       "20                  NaN                 1  \n",
       "21                  NaN                 0  \n",
       "22                  NaN                 1  \n",
       "23                  NaN                 1  \n",
       "24                  NaN                 0  \n",
       "25                  NaN                 1  \n",
       "26                  NaN                 0  \n",
       "27                  NaN                 0  \n",
       "28                  NaN                 1  \n",
       "29                  NaN                 1  \n",
       "30                  NaN                 1  \n",
       "31                  NaN                 1  \n",
       "...                 ...               ...  \n",
       "887198          43100.0                 1  \n",
       "887202          29100.0                 1  \n",
       "887215          16800.0                 1  \n",
       "887231          31300.0                 0  \n",
       "887248          29700.0                 0  \n",
       "887249          30500.0                 1  \n",
       "887254          11900.0                 0  \n",
       "887258          65000.0                 0  \n",
       "887263         120600.0                 1  \n",
       "887264          18200.0                 1  \n",
       "887268          38300.0                 0  \n",
       "887275          45400.0                 0  \n",
       "887276          35500.0                 0  \n",
       "887279          10300.0                 1  \n",
       "887280          12300.0                 0  \n",
       "887290          31300.0                 0  \n",
       "887303           3800.0                 0  \n",
       "887308           5800.0                 0  \n",
       "887322           7200.0                 0  \n",
       "887330          12100.0                 0  \n",
       "887332          39000.0                 1  \n",
       "887337         233000.0                 0  \n",
       "887345          43500.0                 0  \n",
       "887346          43400.0                 1  \n",
       "887347          20500.0                 1  \n",
       "887351          20400.0                 0  \n",
       "887364          41700.0                 1  \n",
       "887366           1800.0                 1  \n",
       "887369          30100.0                 1  \n",
       "887371          16800.0                 0  \n",
       "\n",
       "[277140 rows x 52 columns]"
      ]
     },
     "execution_count": 57,
     "metadata": {},
     "output_type": "execute_result"
    }
   ],
   "source": [
    "ext_num_from_sub_grade(loan)"
   ]
  },
  {
   "cell_type": "code",
   "execution_count": 58,
   "metadata": {},
   "outputs": [
    {
     "data": {
      "text/plain": [
       "4    57124\n",
       "3    56406\n",
       "2    55869\n",
       "1    55389\n",
       "5    52352\n",
       "Name: sub_grade, dtype: int64"
      ]
     },
     "execution_count": 58,
     "metadata": {},
     "output_type": "execute_result"
    }
   ],
   "source": [
    "loan.sub_grade.value_counts()"
   ]
  },
  {
   "cell_type": "markdown",
   "metadata": {},
   "source": [
    "Now sub-feature has only numeric values"
   ]
  },
  {
   "cell_type": "code",
   "execution_count": 59,
   "metadata": {},
   "outputs": [
    {
     "data": {
      "image/png": "[encoded data removed]",
      "text/plain": [
       "<Figure size 864x360 with 2 Axes>"
      ]
     },
     "metadata": {},
     "output_type": "display_data"
    }
   ],
   "source": [
    "plt.figure(figsize=(12,5))\n",
    "plt.subplot(1,2,1)\n",
    "sns.countplot(loan[\"sub_grade\"])\n",
    "plt.subplot(1,2,2)\n",
    "sns.barplot(x=\"sub_grade\", y=\"loan_status_coded\", data=loan)\n",
    "plt.tight_layout()\n",
    "plt.show()"
   ]
  },
  {
   "cell_type": "markdown",
   "metadata": {},
   "source": [
    "### Emp_Title"
   ]
  },
  {
   "cell_type": "markdown",
   "metadata": {},
   "source": [
    "The job title supplied by the borrower when applying for the loan"
   ]
  },
  {
   "cell_type": "code",
   "execution_count": 61,
   "metadata": {},
   "outputs": [
    {
     "data": {
      "text/plain": [
       "5.55387168939886"
      ]
     },
     "execution_count": 61,
     "metadata": {},
     "output_type": "execute_result"
    }
   ],
   "source": [
    "loan.emp_title.isnull().sum()/loan.shape[0] * 100"
   ]
  },
  {
   "cell_type": "code",
   "execution_count": 62,
   "metadata": {},
   "outputs": [
    {
     "data": {
      "text/plain": [
       "Manager             2229\n",
       "Teacher             2223\n",
       "Supervisor           995\n",
       "Registered Nurse     975\n",
       "RN                   960\n",
       "Name: emp_title, dtype: int64"
      ]
     },
     "execution_count": 62,
     "metadata": {},
     "output_type": "execute_result"
    }
   ],
   "source": [
    "loan.emp_title.value_counts().head()"
   ]
  },
  {
   "cell_type": "code",
   "execution_count": 63,
   "metadata": {},
   "outputs": [
    {
     "data": {
      "text/plain": [
       "0.8042866421303313"
      ]
     },
     "execution_count": 63,
     "metadata": {},
     "output_type": "execute_result"
    }
   ],
   "source": [
    "loan.emp_title.value_counts()[0]/loan.shape[0] * 100"
   ]
  },
  {
   "cell_type": "markdown",
   "metadata": {},
   "source": [
    "As the distribution of the Manager accounts to the highest number of values yet this feature cannot be\n",
    "represented for predictions"
   ]
  },
  {
   "cell_type": "code",
   "execution_count": 65,
   "metadata": {},
   "outputs": [],
   "source": [
    "def drop_emp_title(data):\n",
    "    data.drop('emp_title', axis=1, inplace=True)\n",
    "    return None"
   ]
  },
  {
   "cell_type": "code",
   "execution_count": 66,
   "metadata": {},
   "outputs": [],
   "source": [
    "drop_emp_title(loan)"
   ]
  },
  {
   "cell_type": "markdown",
   "metadata": {},
   "source": [
    "### emp_length"
   ]
  },
  {
   "cell_type": "markdown",
   "metadata": {},
   "source": [
    "emp_length: Employment length in years. The possible values are from 0 to 10+"
   ]
  },
  {
   "cell_type": "code",
   "execution_count": 68,
   "metadata": {},
   "outputs": [
    {
     "data": {
      "text/plain": [
       "10+ years    83918\n",
       "2 years      25828\n",
       "< 1 year     23210\n",
       "3 years      22436\n",
       "5 years      19518\n",
       "1 year       18643\n",
       "4 years      17660\n",
       "6 years      15999\n",
       "7 years      15281\n",
       "8 years      13028\n",
       "9 years      10518\n",
       "Name: emp_length, dtype: int64"
      ]
     },
     "execution_count": 68,
     "metadata": {},
     "output_type": "execute_result"
    }
   ],
   "source": [
    "loan.emp_length.value_counts()"
   ]
  },
  {
   "cell_type": "code",
   "execution_count": 70,
   "metadata": {},
   "outputs": [
    {
     "data": {
      "text/plain": [
       "(array([ 0,  1,  2,  3,  4,  5,  6,  7,  8,  9, 10]),\n",
       " <a list of 11 Text xticklabel objects>)"
      ]
     },
     "execution_count": 70,
     "metadata": {},
     "output_type": "execute_result"
    },
    {
     "data": {
      "image/png": "[encoded data removed]",
      "text/plain": [
       "<Figure size 864x360 with 1 Axes>"
      ]
     },
     "metadata": {},
     "output_type": "display_data"
    }
   ],
   "source": [
    "plt.figure(figsize=(12,5))\n",
    "plt.subplot(1,2,1)\n",
    "sns.countplot(loan[\"emp_length\"])\n",
    "plt.xticks(rotation=45)"
   ]
  },
  {
   "cell_type": "markdown",
   "metadata": {},
   "source": [
    "### Home_Ownership"
   ]
  },
  {
   "cell_type": "markdown",
   "metadata": {},
   "source": [
    "home_ownership: The home ownership provided by the borrower during the registration. Values are Rent,\n",
    "Mortgage, Other"
   ]
  },
  {
   "cell_type": "code",
   "execution_count": 71,
   "metadata": {},
   "outputs": [
    {
     "data": {
      "text/plain": [
       "MORTGAGE    135573\n",
       "RENT        116948\n",
       "OWN          24391\n",
       "OTHER          179\n",
       "NONE            48\n",
       "ANY              1\n",
       "Name: home_ownership, dtype: int64"
      ]
     },
     "execution_count": 71,
     "metadata": {},
     "output_type": "execute_result"
    }
   ],
   "source": [
    "loan.home_ownership.value_counts()"
   ]
  },
  {
   "cell_type": "code",
   "execution_count": 72,
   "metadata": {},
   "outputs": [
    {
     "data": {
      "image/png": "[encoded data removed]",
      "text/plain": [
       "<Figure size 864x360 with 2 Axes>"
      ]
     },
     "metadata": {},
     "output_type": "display_data"
    }
   ],
   "source": [
    "plt.figure(figsize=(12,5))\n",
    "plt.subplot(1,2,1)\n",
    "sns.countplot(loan[\"home_ownership\"])\n",
    "plt.xticks(rotation=45)\n",
    "plt.subplot(1,2,2)\n",
    "sns.barplot(x=\"home_ownership\", y=\"loan_status_coded\", data=loan)\n",
    "plt.xticks(rotation=45)\n",
    "plt.show()"
   ]
  },
  {
   "cell_type": "markdown",
   "metadata": {},
   "source": [
    "### Annual Income"
   ]
  },
  {
   "cell_type": "markdown",
   "metadata": {},
   "source": [
    "annual_inc: The self-reported annual income provided by the borrower during registration."
   ]
  },
  {
   "cell_type": "code",
   "execution_count": 74,
   "metadata": {},
   "outputs": [
    {
     "data": {
      "text/plain": [
       "4"
      ]
     },
     "execution_count": 74,
     "metadata": {},
     "output_type": "execute_result"
    }
   ],
   "source": [
    "loan.annual_inc.isnull().sum()"
   ]
  },
  {
   "cell_type": "markdown",
   "metadata": {},
   "source": [
    "There are only 4 missing values. Let's replace them with median vlaue of feature which is more robust to outlier\n",
    "than mean."
   ]
  },
  {
   "cell_type": "code",
   "execution_count": 76,
   "metadata": {},
   "outputs": [
    {
     "name": "stdout",
     "output_type": "stream",
     "text": [
      "Median of annual_inc:  62000.0\n",
      "Mean of annual_inc:  72483.81087083573\n"
     ]
    }
   ],
   "source": [
    "print(\"Median of annual_inc: \", loan.annual_inc.median())\n",
    "print(\"Mean of annual_inc: \", loan.annual_inc.mean())"
   ]
  },
  {
   "cell_type": "code",
   "execution_count": 77,
   "metadata": {},
   "outputs": [],
   "source": [
    "def fill_na_annual_inc(data):\n",
    "    data.annual_inc.fillna(data.annual_inc.median(), inplace=True)\n",
    "    return None\n",
    "fill_na_annual_inc(loan)"
   ]
  },
  {
   "cell_type": "code",
   "execution_count": 78,
   "metadata": {},
   "outputs": [
    {
     "name": "stderr",
     "output_type": "stream",
     "text": [
      "C:\\Users\\manoj\\Anaconda3\\lib\\site-packages\\matplotlib\\axes\\_axes.py:6462: UserWarning: The 'normed' kwarg is deprecated, and has been replaced by the 'density' kwarg.\n",
      "  warnings.warn(\"The 'normed' kwarg is deprecated, and has been \"\n"
     ]
    },
    {
     "data": {
      "text/plain": [
       "<matplotlib.axes._subplots.AxesSubplot at 0x29d035a9208>"
      ]
     },
     "execution_count": 78,
     "metadata": {},
     "output_type": "execute_result"
    },
    {
     "data": {
      "image/png": "[encoded data removed]",
      "text/plain": [
       "<Figure size 432x288 with 1 Axes>"
      ]
     },
     "metadata": {},
     "output_type": "display_data"
    }
   ],
   "source": [
    "sns.distplot(loan[\"annual_inc\"], bins=200)"
   ]
  },
  {
   "cell_type": "code",
   "execution_count": 79,
   "metadata": {},
   "outputs": [
    {
     "name": "stderr",
     "output_type": "stream",
     "text": [
      "C:\\Users\\manoj\\Anaconda3\\lib\\site-packages\\matplotlib\\axes\\_axes.py:6462: UserWarning: The 'normed' kwarg is deprecated, and has been replaced by the 'density' kwarg.\n",
      "  warnings.warn(\"The 'normed' kwarg is deprecated, and has been \"\n"
     ]
    },
    {
     "data": {
      "text/plain": [
       "(0, 500000)"
      ]
     },
     "execution_count": 79,
     "metadata": {},
     "output_type": "execute_result"
    },
    {
     "data": {
      "image/png": "[encoded data removed]",
      "text/plain": [
       "<Figure size 432x288 with 1 Axes>"
      ]
     },
     "metadata": {},
     "output_type": "display_data"
    }
   ],
   "source": [
    "sns.distplot(loan[\"annual_inc\"], bins=200)\n",
    "plt.xlim(0,500000)"
   ]
  },
  {
   "cell_type": "markdown",
   "metadata": {},
   "source": [
    "### Verification_Status"
   ]
  },
  {
   "cell_type": "code",
   "execution_count": 80,
   "metadata": {},
   "outputs": [
    {
     "data": {
      "text/plain": [
       "Verified           101552\n",
       "Not Verified        92571\n",
       "Source Verified     83017\n",
       "Name: verification_status, dtype: int64"
      ]
     },
     "execution_count": 80,
     "metadata": {},
     "output_type": "execute_result"
    }
   ],
   "source": [
    "loan.verification_status.value_counts()"
   ]
  },
  {
   "cell_type": "code",
   "execution_count": 81,
   "metadata": {},
   "outputs": [
    {
     "data": {
      "image/png": "[encoded data removed]",
      "text/plain": [
       "<Figure size 864x360 with 2 Axes>"
      ]
     },
     "metadata": {},
     "output_type": "display_data"
    }
   ],
   "source": [
    "plt.figure(figsize=(12,5))\n",
    "plt.subplot(1,2,1)\n",
    "sns.countplot(loan[\"verification_status\"])\n",
    "plt.subplot(1,2,2)\n",
    "sns.barplot(x=\"verification_status\", y=\"loan_status_coded\", data=loan)\n",
    "plt.show()"
   ]
  },
  {
   "cell_type": "markdown",
   "metadata": {},
   "source": [
    "### Issue_d"
   ]
  },
  {
   "cell_type": "markdown",
   "metadata": {},
   "source": [
    "issue_d: The month and year which the loan was funded."
   ]
  },
  {
   "cell_type": "code",
   "execution_count": 83,
   "metadata": {},
   "outputs": [
    {
     "data": {
      "text/plain": [
       "Oct-2014    10148\n",
       "Jul-2014     9605\n",
       "Apr-2014     7357\n",
       "Dec-2013     7055\n",
       "May-2014     7052\n",
       "Name: issue_d, dtype: int64"
      ]
     },
     "execution_count": 83,
     "metadata": {},
     "output_type": "execute_result"
    }
   ],
   "source": [
    "loan.issue_d.value_counts().head()"
   ]
  },
  {
   "cell_type": "code",
   "execution_count": 84,
   "metadata": {},
   "outputs": [
    {
     "data": {
      "image/png": "[encoded data removed]",
      "text/plain": [
       "<Figure size 1152x864 with 2 Axes>"
      ]
     },
     "metadata": {},
     "output_type": "display_data"
    }
   ],
   "source": [
    "plt.figure(figsize=(16,12))\n",
    "plt.subplot(2,1,1)\n",
    "plt.title('The month which the loan was funded')\n",
    "sns.countplot(loan[\"issue_d\"])\n",
    "plt.xticks(rotation='vertical')\n",
    "plt.subplot(2,1,2)\n",
    "sns.barplot(x=\"issue_d\", y=\"loan_status_coded\", data=loan)\n",
    "plt.xticks(rotation='vertical')\n",
    "plt.tight_layout()\n",
    "plt.show()"
   ]
  },
  {
   "cell_type": "markdown",
   "metadata": {},
   "source": [
    "We see that it is a time series graph, if we include this column in our model it increases the model dimension by\n",
    "more then 100. But the model performance is not greatly affected without this feature so I have decided to not\n",
    "include this feature in the prediction"
   ]
  },
  {
   "cell_type": "code",
   "execution_count": 85,
   "metadata": {},
   "outputs": [],
   "source": [
    "def drop_issue_d(data):\n",
    "    data.drop('issue_d', axis=1, inplace=True)\n",
    "    return None\n",
    "drop_issue_d(loan)"
   ]
  },
  {
   "cell_type": "markdown",
   "metadata": {},
   "source": [
    "### pyment_plan"
   ]
  },
  {
   "cell_type": "markdown",
   "metadata": {},
   "source": [
    "pyment_plan: Indicates if a payment plan is put in the place for the loan"
   ]
  },
  {
   "cell_type": "code",
   "execution_count": 86,
   "metadata": {},
   "outputs": [
    {
     "data": {
      "text/plain": [
       "n    277133\n",
       "y         7\n",
       "Name: pymnt_plan, dtype: int64"
      ]
     },
     "execution_count": 86,
     "metadata": {},
     "output_type": "execute_result"
    }
   ],
   "source": [
    "loan.pymnt_plan.value_counts()"
   ]
  },
  {
   "cell_type": "code",
   "execution_count": 87,
   "metadata": {},
   "outputs": [
    {
     "data": {
      "image/png": "[encoded data removed]",
      "text/plain": [
       "<Figure size 864x360 with 2 Axes>"
      ]
     },
     "metadata": {},
     "output_type": "display_data"
    }
   ],
   "source": [
    "plt.figure(figsize=(12,5))\n",
    "plt.subplot(1,2,1)\n",
    "sns.countplot(loan[\"pymnt_plan\"])\n",
    "plt.subplot(1,2,2)\n",
    "sns.barplot(x=\"pymnt_plan\", y=\"loan_status_coded\", data=loan)\n",
    "plt.show()"
   ]
  },
  {
   "cell_type": "code",
   "execution_count": 88,
   "metadata": {},
   "outputs": [],
   "source": [
    "def drop_pymnt_plan(data):\n",
    "    data.drop('pymnt_plan', axis=1, inplace=True)\n",
    "    return None\n",
    "drop_pymnt_plan(loan)"
   ]
  },
  {
   "cell_type": "markdown",
   "metadata": {},
   "source": [
    "### URL"
   ]
  },
  {
   "cell_type": "markdown",
   "metadata": {},
   "source": [
    "url: Gives url of the page"
   ]
  },
  {
   "cell_type": "code",
   "execution_count": 89,
   "metadata": {},
   "outputs": [
    {
     "data": {
      "text/plain": [
       "0    https://www.lendingclub.com/browse/loanDetail....\n",
       "1    https://www.lendingclub.com/browse/loanDetail....\n",
       "2    https://www.lendingclub.com/browse/loanDetail....\n",
       "3    https://www.lendingclub.com/browse/loanDetail....\n",
       "5    https://www.lendingclub.com/browse/loanDetail....\n",
       "Name: url, dtype: object"
      ]
     },
     "execution_count": 89,
     "metadata": {},
     "output_type": "execute_result"
    }
   ],
   "source": [
    "loan.url.head()"
   ]
  },
  {
   "cell_type": "code",
   "execution_count": 91,
   "metadata": {},
   "outputs": [],
   "source": [
    "def drop_url(data):\n",
    "    data.drop('url', axis=1, inplace=True)\n",
    "    return None\n",
    "drop_url(loan)"
   ]
  },
  {
   "cell_type": "markdown",
   "metadata": {},
   "source": [
    "### Purpose"
   ]
  },
  {
   "cell_type": "markdown",
   "metadata": {},
   "source": [
    "Purpose: A category provided by the borrower for the loan request"
   ]
  },
  {
   "cell_type": "code",
   "execution_count": 92,
   "metadata": {},
   "outputs": [
    {
     "data": {
      "text/plain": [
       "debt_consolidation    163180\n",
       "credit_card            54276\n",
       "home_improvement       16356\n",
       "other                  15807\n",
       "major_purchase          6785\n",
       "small_business          5245\n",
       "car                     3845\n",
       "medical                 3125\n",
       "moving                  2241\n",
       "wedding                 2022\n",
       "house                   1816\n",
       "vacation                1733\n",
       "educational              422\n",
       "renewable_energy         287\n",
       "Name: purpose, dtype: int64"
      ]
     },
     "execution_count": 92,
     "metadata": {},
     "output_type": "execute_result"
    }
   ],
   "source": [
    "loan.purpose.value_counts()"
   ]
  },
  {
   "cell_type": "code",
   "execution_count": 93,
   "metadata": {},
   "outputs": [
    {
     "data": {
      "image/png": "[encoded data removed]",
      "text/plain": [
       "<Figure size 864x360 with 2 Axes>"
      ]
     },
     "metadata": {},
     "output_type": "display_data"
    }
   ],
   "source": [
    "plt.figure(figsize=(12,5))\n",
    "plt.subplot(1,2,1)\n",
    "sns.countplot(y=loan[\"purpose\"])\n",
    "plt.subplot(1,2,2)\n",
    "sns.barplot(y=\"purpose\", x=\"loan_status_coded\", data=loan)\n",
    "plt.tight_layout()\n",
    "plt.show()"
   ]
  },
  {
   "cell_type": "markdown",
   "metadata": {},
   "source": [
    "### Title"
   ]
  },
  {
   "cell_type": "markdown",
   "metadata": {},
   "source": [
    "Title: The loan title provided by the borrower"
   ]
  },
  {
   "cell_type": "code",
   "execution_count": 95,
   "metadata": {},
   "outputs": [
    {
     "data": {
      "text/plain": [
       "Debt consolidation                                 83931\n",
       "Credit card refinancing                            26050\n",
       "Debt Consolidation                                 11398\n",
       "Home improvement                                    7778\n",
       "Other                                               6988\n",
       "Consolidation                                       3691\n",
       "debt consolidation                                  3335\n",
       "Debt Consolidation Loan                             3119\n",
       "Major purchase                                      2519\n",
       "Business                                            2051\n",
       "Personal Loan                                       1685\n",
       "Credit Card Consolidation                           1663\n",
       "Medical expenses                                    1562\n",
       "consolidation                                       1435\n",
       "Home Improvement                                    1282\n",
       "Consolidation Loan                                  1238\n",
       "Car financing                                       1096\n",
       "Credit Card Refinance                               1000\n",
       "Vacation                                             978\n",
       "Moving and relocation                                961\n",
       "Credit Card Payoff                                   909\n",
       "Personal                                             900\n",
       "Consolidate                                          863\n",
       "Loan                                                 747\n",
       "Home buying                                          722\n",
       "Credit Card Loan                                     628\n",
       "personal loan                                        603\n",
       "personal                                             600\n",
       "Freedom                                              519\n",
       "consolidate                                          518\n",
       "                                                   ...  \n",
       "Wedding Fund Consolidation                             1\n",
       "DebtConsolRequest                                      1\n",
       "Save my sanity                                         1\n",
       "psy down debt                                          1\n",
       "FirstCC                                                1\n",
       "Pay It Off!                                            1\n",
       "Splash40                                               1\n",
       "NO MORE FREAKING CARDS!!!                              1\n",
       "Creidit Card Consolidation                             1\n",
       "Debt go away                                           1\n",
       "Home improvement loan to install pool                  1\n",
       "Ericka's Loan                                          1\n",
       "Cerdit Cards Payoff                                    1\n",
       "Exciting renovation for my children                    1\n",
       "PARIS TRIP                                             1\n",
       "CC_RC                                                  1\n",
       "Short term Loan                                        1\n",
       "Just consolidating!                                    1\n",
       "Credit Card PAYOFF                                     1\n",
       "cl350                                                  1\n",
       "No more CCs                                            1\n",
       "Critical Care Registered Nurse Back on the job.        1\n",
       "Pay off my old bills                                   1\n",
       "care one                                               1\n",
       "Personal Stimulus Package                              1\n",
       "Vacant Land                                            1\n",
       "I Never miss a payment!                                1\n",
       "Paying off credit card for a lower rate                1\n",
       "1995 Holiday Rambler                                   1\n",
       "FREEDON                                                1\n",
       "Name: title, Length: 50182, dtype: int64"
      ]
     },
     "execution_count": 95,
     "metadata": {},
     "output_type": "execute_result"
    }
   ],
   "source": [
    "loan.title.value_counts()"
   ]
  },
  {
   "cell_type": "code",
   "execution_count": 96,
   "metadata": {},
   "outputs": [
    {
     "data": {
      "text/plain": [
       "15"
      ]
     },
     "execution_count": 96,
     "metadata": {},
     "output_type": "execute_result"
    }
   ],
   "source": [
    "loan.title.isnull().sum()"
   ]
  },
  {
   "cell_type": "markdown",
   "metadata": {},
   "source": [
    "There are 14 null values. Since it is a categorical data, I will fill null values with 'Unknown' value."
   ]
  },
  {
   "cell_type": "code",
   "execution_count": 97,
   "metadata": {},
   "outputs": [],
   "source": [
    "def fill_na_title(data):\n",
    "    data.title.fillna('Unknown', inplace=True)\n",
    "    return None\n",
    "fill_na_title(loan)"
   ]
  },
  {
   "cell_type": "code",
   "execution_count": 98,
   "metadata": {},
   "outputs": [
    {
     "data": {
      "text/plain": [
       "16"
      ]
     },
     "execution_count": 98,
     "metadata": {},
     "output_type": "execute_result"
    }
   ],
   "source": [
    "sum(loan.title=='Unknown')"
   ]
  },
  {
   "cell_type": "markdown",
   "metadata": {},
   "source": [
    "### zip_code, addr_state"
   ]
  },
  {
   "cell_type": "markdown",
   "metadata": {},
   "source": [
    "zip_code: The first 3 numbers of the zip code provided by the borrower in the loan application.\n",
    "addr_state: The state provided by the borrower in the loan application"
   ]
  },
  {
   "cell_type": "code",
   "execution_count": 99,
   "metadata": {},
   "outputs": [
    {
     "data": {
      "text/plain": [
       "945xx    3520\n",
       "112xx    3123\n",
       "750xx    3005\n",
       "100xx    2739\n",
       "900xx    2688\n",
       "Name: zip_code, dtype: int64"
      ]
     },
     "execution_count": 99,
     "metadata": {},
     "output_type": "execute_result"
    }
   ],
   "source": [
    "loan.zip_code.value_counts().head()"
   ]
  },
  {
   "cell_type": "markdown",
   "metadata": {},
   "source": [
    "It looks like zip_code does not represent data effectively. I will drop this feature."
   ]
  },
  {
   "cell_type": "code",
   "execution_count": 100,
   "metadata": {},
   "outputs": [],
   "source": [
    "def drop_zip_code (data):\n",
    "    data.drop('zip_code', axis=1, inplace=True)\n",
    "    return None\n",
    "drop_zip_code(loan)"
   ]
  },
  {
   "cell_type": "code",
   "execution_count": 101,
   "metadata": {},
   "outputs": [
    {
     "data": {
      "text/plain": [
       "CA    46519\n",
       "NY    23694\n",
       "TX    21193\n",
       "FL    19329\n",
       "NJ    10549\n",
       "Name: addr_state, dtype: int64"
      ]
     },
     "execution_count": 101,
     "metadata": {},
     "output_type": "execute_result"
    }
   ],
   "source": [
    "loan.addr_state.value_counts().head()"
   ]
  },
  {
   "cell_type": "code",
   "execution_count": 102,
   "metadata": {},
   "outputs": [
    {
     "data": {
      "image/png": "[encoded data removed]",
      "text/plain": [
       "<Figure size 1152x864 with 2 Axes>"
      ]
     },
     "metadata": {},
     "output_type": "display_data"
    }
   ],
   "source": [
    "plt.figure(figsize=(16,12))\n",
    "plt.subplot(2,1,1)\n",
    "plt.title('The month which the loan was funded')\n",
    "sns.countplot(loan[\"addr_state\"])\n",
    "plt.subplot(2,1,2)\n",
    "sns.barplot(x=\"addr_state\", y=\"loan_status_coded\", data=loan)\n",
    "plt.tight_layout()\n",
    "plt.show()"
   ]
  },
  {
   "cell_type": "markdown",
   "metadata": {},
   "source": [
    "For the same reason as issue_d, I will drop this feature."
   ]
  },
  {
   "cell_type": "code",
   "execution_count": 103,
   "metadata": {},
   "outputs": [],
   "source": [
    "def drop_addr_state(data):\n",
    "    data.drop('addr_state', axis=1, inplace=True)\n",
    "    return None\n",
    "drop_addr_state(loan)"
   ]
  },
  {
   "cell_type": "markdown",
   "metadata": {},
   "source": [
    "### dti"
   ]
  },
  {
   "cell_type": "markdown",
   "metadata": {},
   "source": [
    "dti: A ratio calculated using the borrower’s total monthly debt payments on the total debt obligations, excluding\n",
    "mortgage and the requested LC loan, divided by the borrower’s self-reported monthly income."
   ]
  },
  {
   "cell_type": "code",
   "execution_count": 104,
   "metadata": {},
   "outputs": [
    {
     "name": "stderr",
     "output_type": "stream",
     "text": [
      "C:\\Users\\manoj\\Anaconda3\\lib\\site-packages\\matplotlib\\axes\\_axes.py:6462: UserWarning: The 'normed' kwarg is deprecated, and has been replaced by the 'density' kwarg.\n",
      "  warnings.warn(\"The 'normed' kwarg is deprecated, and has been \"\n"
     ]
    },
    {
     "data": {
      "text/plain": [
       "<matplotlib.axes._subplots.AxesSubplot at 0x29d01f9f6a0>"
      ]
     },
     "execution_count": 104,
     "metadata": {},
     "output_type": "execute_result"
    },
    {
     "data": {
      "image/png": "[encoded data removed]",
      "text/plain": [
       "<Figure size 432x288 with 1 Axes>"
      ]
     },
     "metadata": {},
     "output_type": "display_data"
    }
   ],
   "source": [
    "sns.distplot(loan.dti)"
   ]
  },
  {
   "cell_type": "markdown",
   "metadata": {},
   "source": [
    "### delinq_2yrs"
   ]
  },
  {
   "cell_type": "markdown",
   "metadata": {},
   "source": [
    "delinq_2yrs: The number of 30+ days past-due incidences of delinquency in the borrower's credit file for the\n",
    "past 2 yea"
   ]
  },
  {
   "cell_type": "code",
   "execution_count": 105,
   "metadata": {},
   "outputs": [
    {
     "data": {
      "text/plain": [
       "29"
      ]
     },
     "execution_count": 105,
     "metadata": {},
     "output_type": "execute_result"
    }
   ],
   "source": [
    "loan.delinq_2yrs.isnull().sum()"
   ]
  },
  {
   "cell_type": "code",
   "execution_count": 106,
   "metadata": {},
   "outputs": [],
   "source": [
    "def fill_na_delinq_2yrs(data):\n",
    "    data.delinq_2yrs.fillna(data.delinq_2yrs.median(), inplace=True)\n",
    "    return None"
   ]
  },
  {
   "cell_type": "code",
   "execution_count": 107,
   "metadata": {},
   "outputs": [],
   "source": [
    "fill_na_delinq_2yrs(loan)"
   ]
  },
  {
   "cell_type": "markdown",
   "metadata": {},
   "source": [
    "Considering the entire number of data, only small number of values are null. Let's fill them with median of\n",
    "column"
   ]
  },
  {
   "cell_type": "code",
   "execution_count": 108,
   "metadata": {},
   "outputs": [
    {
     "data": {
      "text/plain": [
       "0.0     230858\n",
       "1.0      31595\n",
       "2.0       8957\n",
       "3.0       3040\n",
       "4.0       1249\n",
       "5.0        642\n",
       "6.0        329\n",
       "7.0        178\n",
       "8.0        104\n",
       "9.0         63\n",
       "10.0        39\n",
       "12.0        26\n",
       "11.0        24\n",
       "13.0         9\n",
       "14.0         9\n",
       "15.0         5\n",
       "18.0         4\n",
       "17.0         2\n",
       "16.0         2\n",
       "29.0         1\n",
       "21.0         1\n",
       "19.0         1\n",
       "20.0         1\n",
       "22.0         1\n",
       "Name: delinq_2yrs, dtype: int64"
      ]
     },
     "execution_count": 108,
     "metadata": {},
     "output_type": "execute_result"
    }
   ],
   "source": [
    "loan.delinq_2yrs.value_counts()"
   ]
  },
  {
   "cell_type": "code",
   "execution_count": 109,
   "metadata": {},
   "outputs": [
    {
     "data": {
      "image/png": "[encoded data removed]",
      "text/plain": [
       "<Figure size 864x360 with 2 Axes>"
      ]
     },
     "metadata": {},
     "output_type": "display_data"
    }
   ],
   "source": [
    "plt.figure(figsize=(12,5))\n",
    "plt.subplot(1,2,1)\n",
    "sns.countplot(loan[\"delinq_2yrs\"])\n",
    "plt.xticks(rotation=\"vertical\")\n",
    "plt.subplot(1,2,2)\n",
    "sns.barplot(x=\"delinq_2yrs\", y=\"loan_status_coded\", data=loan)\n",
    "plt.xticks(rotation=\"vertical\")\n",
    "plt.show()"
   ]
  },
  {
   "cell_type": "markdown",
   "metadata": {},
   "source": [
    "### earliest_cr_line"
   ]
  },
  {
   "cell_type": "markdown",
   "metadata": {},
   "source": [
    "earliest_cr_line: The month the borrower's earliest reported credit line was opened"
   ]
  },
  {
   "cell_type": "code",
   "execution_count": 111,
   "metadata": {},
   "outputs": [
    {
     "data": {
      "text/plain": [
       "29"
      ]
     },
     "execution_count": 111,
     "metadata": {},
     "output_type": "execute_result"
    }
   ],
   "source": [
    "loan.earliest_cr_line.isnull().sum()"
   ]
  },
  {
   "cell_type": "code",
   "execution_count": 112,
   "metadata": {},
   "outputs": [
    {
     "data": {
      "text/plain": [
       "Oct-2000    2272\n",
       "Oct-2001    2135\n",
       "Oct-1999    2124\n",
       "Nov-2000    2094\n",
       "Aug-2000    2082\n",
       "Name: earliest_cr_line, dtype: int64"
      ]
     },
     "execution_count": 112,
     "metadata": {},
     "output_type": "execute_result"
    }
   ],
   "source": [
    "loan.earliest_cr_line.value_counts().head()"
   ]
  },
  {
   "cell_type": "code",
   "execution_count": 114,
   "metadata": {},
   "outputs": [],
   "source": [
    "def drop_earliest_cr_line(data):\n",
    "    data.drop('earliest_cr_line', axis=1, inplace=True)\n",
    "    return None\n",
    "drop_earliest_cr_line(loan)"
   ]
  },
  {
   "cell_type": "markdown",
   "metadata": {},
   "source": [
    "### inq_last_6mths"
   ]
  },
  {
   "cell_type": "markdown",
   "metadata": {},
   "source": [
    "inq_last_6mths: The number of inquiries in past 6 months (excluding auto and mortgage inquiries)"
   ]
  },
  {
   "cell_type": "code",
   "execution_count": 116,
   "metadata": {},
   "outputs": [
    {
     "data": {
      "text/plain": [
       "29"
      ]
     },
     "execution_count": 116,
     "metadata": {},
     "output_type": "execute_result"
    }
   ],
   "source": [
    "loan.inq_last_6mths.isnull().sum()"
   ]
  },
  {
   "cell_type": "code",
   "execution_count": 117,
   "metadata": {},
   "outputs": [
    {
     "data": {
      "text/plain": [
       "0.0     134729\n",
       "1.0      79298\n",
       "2.0      37674\n",
       "3.0      17340\n",
       "4.0       4809\n",
       "5.0       1973\n",
       "6.0        832\n",
       "7.0        193\n",
       "8.0        118\n",
       "9.0         50\n",
       "10.0        24\n",
       "12.0        15\n",
       "11.0        15\n",
       "15.0         9\n",
       "14.0         6\n",
       "13.0         6\n",
       "18.0         4\n",
       "16.0         3\n",
       "19.0         2\n",
       "17.0         2\n",
       "24.0         2\n",
       "28.0         1\n",
       "31.0         1\n",
       "32.0         1\n",
       "25.0         1\n",
       "33.0         1\n",
       "20.0         1\n",
       "27.0         1\n",
       "Name: inq_last_6mths, dtype: int64"
      ]
     },
     "execution_count": 117,
     "metadata": {},
     "output_type": "execute_result"
    }
   ],
   "source": [
    "loan.inq_last_6mths.value_counts()"
   ]
  },
  {
   "cell_type": "code",
   "execution_count": 120,
   "metadata": {},
   "outputs": [],
   "source": [
    "def fill_na_inq_last_6mths(data):\n",
    "    data.inq_last_6mths.fillna(data.inq_last_6mths.median(), inplace=True)\n",
    "    return None\n",
    "fill_na_inq_last_6mths(loan)"
   ]
  },
  {
   "cell_type": "code",
   "execution_count": 121,
   "metadata": {},
   "outputs": [
    {
     "data": {
      "image/png": "[encoded data removed]",
      "text/plain": [
       "<Figure size 864x360 with 2 Axes>"
      ]
     },
     "metadata": {},
     "output_type": "display_data"
    }
   ],
   "source": [
    "plt.figure(figsize=(12,5))\n",
    "plt.subplot(1,2,1)\n",
    "sns.countplot(loan[\"inq_last_6mths\"])\n",
    "plt.xticks(rotation=\"vertical\")\n",
    "plt.subplot(1,2,2)\n",
    "sns.barplot(x=\"inq_last_6mths\", y=\"loan_status_coded\", data=loan)\n",
    "plt.xticks(rotation=\"vertical\")\n",
    "plt.show()"
   ]
  },
  {
   "cell_type": "markdown",
   "metadata": {},
   "source": [
    "### open_acc"
   ]
  },
  {
   "cell_type": "markdown",
   "metadata": {},
   "source": [
    "open_acc: The number of open credit lines in the borrower's credit file."
   ]
  },
  {
   "cell_type": "code",
   "execution_count": 123,
   "metadata": {},
   "outputs": [
    {
     "data": {
      "text/plain": [
       "29"
      ]
     },
     "execution_count": 123,
     "metadata": {},
     "output_type": "execute_result"
    }
   ],
   "source": [
    "loan.open_acc.isnull().sum()"
   ]
  },
  {
   "cell_type": "code",
   "execution_count": 124,
   "metadata": {},
   "outputs": [
    {
     "data": {
      "text/plain": [
       "9.0     26475\n",
       "8.0     25282\n",
       "10.0    24994\n",
       "11.0    23106\n",
       "7.0     22843\n",
       "Name: open_acc, dtype: int64"
      ]
     },
     "execution_count": 124,
     "metadata": {},
     "output_type": "execute_result"
    }
   ],
   "source": [
    "loan.open_acc.value_counts().head()"
   ]
  },
  {
   "cell_type": "code",
   "execution_count": 125,
   "metadata": {},
   "outputs": [],
   "source": [
    "def fill_na_open_acc(data):\n",
    "    data.open_acc.fillna(data.open_acc.median(), inplace=True)\n",
    "    return None\n",
    "fill_na_open_acc(loan)"
   ]
  },
  {
   "cell_type": "code",
   "execution_count": 126,
   "metadata": {},
   "outputs": [
    {
     "data": {
      "image/png": "[encoded data removed]",
      "text/plain": [
       "<Figure size 1152x576 with 2 Axes>"
      ]
     },
     "metadata": {},
     "output_type": "display_data"
    }
   ],
   "source": [
    "plt.figure(figsize=(16,8))\n",
    "plt.subplot(2,1,1)\n",
    "sns.countplot(loan[\"open_acc\"])\n",
    "plt.xticks(rotation=45)\n",
    "plt.subplot(2,1,2)\n",
    "sns.barplot(x=\"open_acc\", y=\"loan_status_coded\", data=loan)\n",
    "plt.xticks(rotation=45)\n",
    "plt.tight_layout()\n",
    "plt.show()"
   ]
  },
  {
   "cell_type": "markdown",
   "metadata": {},
   "source": [
    "### pub_rec"
   ]
  },
  {
   "cell_type": "markdown",
   "metadata": {},
   "source": [
    "pub_rec: Number of derogatory public records"
   ]
  },
  {
   "cell_type": "code",
   "execution_count": 127,
   "metadata": {},
   "outputs": [
    {
     "data": {
      "text/plain": [
       "29"
      ]
     },
     "execution_count": 127,
     "metadata": {},
     "output_type": "execute_result"
    }
   ],
   "source": [
    "loan.pub_rec.isnull().sum()"
   ]
  },
  {
   "cell_type": "code",
   "execution_count": 128,
   "metadata": {},
   "outputs": [
    {
     "data": {
      "text/plain": [
       "0.0     242299\n",
       "1.0      30572\n",
       "2.0       2975\n",
       "3.0        805\n",
       "4.0        249\n",
       "5.0        110\n",
       "6.0         53\n",
       "7.0         20\n",
       "8.0          9\n",
       "9.0          7\n",
       "10.0         5\n",
       "11.0         3\n",
       "12.0         2\n",
       "15.0         1\n",
       "20.0         1\n",
       "Name: pub_rec, dtype: int64"
      ]
     },
     "execution_count": 128,
     "metadata": {},
     "output_type": "execute_result"
    }
   ],
   "source": [
    "loan.pub_rec.value_counts()"
   ]
  },
  {
   "cell_type": "code",
   "execution_count": 130,
   "metadata": {},
   "outputs": [],
   "source": [
    "def fill_na_pub_rec(data):\n",
    "    data.pub_rec.fillna(data.pub_rec.median(), inplace=True)\n",
    "    return None\n",
    "fill_na_pub_rec(loan)"
   ]
  },
  {
   "cell_type": "code",
   "execution_count": 131,
   "metadata": {},
   "outputs": [
    {
     "data": {
      "image/png": "[encoded data removed]",
      "text/plain": [
       "<Figure size 1152x576 with 2 Axes>"
      ]
     },
     "metadata": {},
     "output_type": "display_data"
    }
   ],
   "source": [
    "plt.figure(figsize=(16,8))\n",
    "plt.subplot(2,1,1)\n",
    "sns.countplot(loan[\"pub_rec\"])\n",
    "plt.xticks(rotation=45)\n",
    "plt.subplot(2,1,2)\n",
    "sns.barplot(x=\"pub_rec\", y=\"loan_status_coded\", data=loan)\n",
    "plt.xticks(rotation=45)\n",
    "plt.tight_layout()\n",
    "plt.show()"
   ]
  },
  {
   "cell_type": "markdown",
   "metadata": {},
   "source": [
    "### revol_bal"
   ]
  },
  {
   "cell_type": "markdown",
   "metadata": {},
   "source": [
    "revol_bal: Total credit revolving balance"
   ]
  },
  {
   "cell_type": "code",
   "execution_count": 132,
   "metadata": {},
   "outputs": [
    {
     "name": "stderr",
     "output_type": "stream",
     "text": [
      "C:\\Users\\manoj\\Anaconda3\\lib\\site-packages\\matplotlib\\axes\\_axes.py:6462: UserWarning: The 'normed' kwarg is deprecated, and has been replaced by the 'density' kwarg.\n",
      "  warnings.warn(\"The 'normed' kwarg is deprecated, and has been \"\n"
     ]
    },
    {
     "data": {
      "text/plain": [
       "<matplotlib.axes._subplots.AxesSubplot at 0x29d0ab590f0>"
      ]
     },
     "execution_count": 132,
     "metadata": {},
     "output_type": "execute_result"
    },
    {
     "data": {
      "image/png": "[encoded data removed]",
      "text/plain": [
       "<Figure size 432x288 with 1 Axes>"
      ]
     },
     "metadata": {},
     "output_type": "display_data"
    }
   ],
   "source": [
    "sns.distplot(loan.revol_bal)"
   ]
  },
  {
   "cell_type": "code",
   "execution_count": 133,
   "metadata": {},
   "outputs": [
    {
     "name": "stderr",
     "output_type": "stream",
     "text": [
      "C:\\Users\\manoj\\Anaconda3\\lib\\site-packages\\matplotlib\\axes\\_axes.py:6462: UserWarning: The 'normed' kwarg is deprecated, and has been replaced by the 'density' kwarg.\n",
      "  warnings.warn(\"The 'normed' kwarg is deprecated, and has been \"\n"
     ]
    },
    {
     "data": {
      "text/plain": [
       "(0, 100000)"
      ]
     },
     "execution_count": 133,
     "metadata": {},
     "output_type": "execute_result"
    },
    {
     "data": {
      "image/png": "[encoded data removed]",
      "text/plain": [
       "<Figure size 432x288 with 1 Axes>"
      ]
     },
     "metadata": {},
     "output_type": "display_data"
    }
   ],
   "source": [
    "sns.distplot(loan.revol_bal, bins=250)\n",
    "plt.xlim(0,100000)"
   ]
  },
  {
   "cell_type": "markdown",
   "metadata": {},
   "source": [
    "### Encoding Categorical Variables using one hot encoder"
   ]
  },
  {
   "cell_type": "code",
   "execution_count": 135,
   "metadata": {},
   "outputs": [],
   "source": [
    "features = ['loan_amnt', 'funded_amnt', 'funded_amnt_inv', 'term', 'int_rate',\n",
    "'installment', 'grade', 'sub_grade', 'emp_length', 'home_ownership',\n",
    "'annual_inc', 'verification_status', 'purpose', 'dti',\n",
    "'delinq_2yrs', 'inq_last_6mths', 'open_acc', 'revol_bal', 'revol_util',\n",
    "'total_acc', 'initial_list_status', 'total_pymnt', 'total_pymnt_inv',\n",
    "'total_rec_prncp', 'total_rec_int', 'last_pymnt_amnt',\n",
    "'total_rev_hi_lim', 'loan_status_coded']\n",
    "categorical = ['term', 'grade', 'emp_length', 'home_ownership', 'verification_status',\n",
    "'purpose', 'initial_list_status']"
   ]
  },
  {
   "cell_type": "code",
   "execution_count": 136,
   "metadata": {},
   "outputs": [],
   "source": [
    "loan = loan[features]"
   ]
  },
  {
   "cell_type": "code",
   "execution_count": 137,
   "metadata": {},
   "outputs": [
    {
     "name": "stdout",
     "output_type": "stream",
     "text": [
      "====================[Data Types]====================\n",
      "loan_amnt                              float64\n",
      "funded_amnt                            float64\n",
      "funded_amnt_inv                        float64\n",
      "int_rate                               float64\n",
      "installment                            float64\n",
      "sub_grade                                int64\n",
      "annual_inc                             float64\n",
      "dti                                    float64\n",
      "delinq_2yrs                            float64\n",
      "inq_last_6mths                         float64\n",
      "open_acc                               float64\n",
      "revol_bal                              float64\n",
      "revol_util                             float64\n",
      "total_acc                              float64\n",
      "total_pymnt                            float64\n",
      "total_pymnt_inv                        float64\n",
      "total_rec_prncp                        float64\n",
      "total_rec_int                          float64\n",
      "last_pymnt_amnt                        float64\n",
      "total_rev_hi_lim                       float64\n",
      "loan_status_coded                        int64\n",
      "term_ 36 months                          uint8\n",
      "term_ 60 months                          uint8\n",
      "grade_A                                  uint8\n",
      "grade_B                                  uint8\n",
      "grade_C                                  uint8\n",
      "grade_D                                  uint8\n",
      "grade_E                                  uint8\n",
      "grade_F                                  uint8\n",
      "grade_G                                  uint8\n",
      "                                        ...   \n",
      "emp_length_6 years                       uint8\n",
      "emp_length_7 years                       uint8\n",
      "emp_length_8 years                       uint8\n",
      "emp_length_9 years                       uint8\n",
      "emp_length_< 1 year                      uint8\n",
      "home_ownership_ANY                       uint8\n",
      "home_ownership_MORTGAGE                  uint8\n",
      "home_ownership_NONE                      uint8\n",
      "home_ownership_OTHER                     uint8\n",
      "home_ownership_OWN                       uint8\n",
      "home_ownership_RENT                      uint8\n",
      "verification_status_Not Verified         uint8\n",
      "verification_status_Source Verified      uint8\n",
      "verification_status_Verified             uint8\n",
      "purpose_car                              uint8\n",
      "purpose_credit_card                      uint8\n",
      "purpose_debt_consolidation               uint8\n",
      "purpose_educational                      uint8\n",
      "purpose_home_improvement                 uint8\n",
      "purpose_house                            uint8\n",
      "purpose_major_purchase                   uint8\n",
      "purpose_medical                          uint8\n",
      "purpose_moving                           uint8\n",
      "purpose_other                            uint8\n",
      "purpose_renewable_energy                 uint8\n",
      "purpose_small_business                   uint8\n",
      "purpose_vacation                         uint8\n",
      "purpose_wedding                          uint8\n",
      "initial_list_status_f                    uint8\n",
      "initial_list_status_w                    uint8\n",
      "Length: 66, dtype: object\n"
     ]
    }
   ],
   "source": [
    "def one_hot_encoder(loan):\n",
    "    categorical_variables = categorical\n",
    "    loan_one_hot_encoded = pd.get_dummies(loan, columns=categorical_variables)\n",
    "    print(\"====================[Data Types]====================\")\n",
    "    print(loan_one_hot_encoded.dtypes)\n",
    "    return loan_one_hot_encoded\n",
    "loan_one_hot_encoded = one_hot_encoder(loan)"
   ]
  },
  {
   "cell_type": "markdown",
   "metadata": {},
   "source": [
    "### Examining the target variable"
   ]
  },
  {
   "cell_type": "markdown",
   "metadata": {},
   "source": [
    "Examining the loan status distribution\n",
    "We have to remind that the distribution of our data is highly skewed\n",
    "As we can see that most of the loans are safe loans. This would affect our training model because telling that\n",
    "every loan is safe can be the best answer in terms of accuracy. We can prevent this by the following ways\n",
    "1. Different wighting in training\n",
    "2. Down sample to the smalles set\n",
    "3. Up sample to the largest set\n",
    "\n",
    "I implemented both down sampling and up sampling where as I downsampled the dataset using by just splitting\n",
    "the data set equally. I up sampled the dataset using SMOTE algorithm below."
   ]
  },
  {
   "cell_type": "code",
   "execution_count": 138,
   "metadata": {},
   "outputs": [
    {
     "data": {
      "text/plain": [
       "<matplotlib.axes._subplots.AxesSubplot at 0x29d0a1594e0>"
      ]
     },
     "execution_count": 138,
     "metadata": {},
     "output_type": "execute_result"
    },
    {
     "data": {
      "image/png": "[encoded data removed]",
      "text/plain": [
       "<Figure size 432x288 with 1 Axes>"
      ]
     },
     "metadata": {},
     "output_type": "display_data"
    }
   ],
   "source": [
    "sns.countplot(loan[\"loan_status_coded\"])"
   ]
  },
  {
   "cell_type": "code",
   "execution_count": 139,
   "metadata": {},
   "outputs": [],
   "source": [
    "loan= loan.dropna()"
   ]
  },
  {
   "cell_type": "markdown",
   "metadata": {},
   "source": [
    "### Downsampling the target variable"
   ]
  },
  {
   "cell_type": "code",
   "execution_count": 140,
   "metadata": {},
   "outputs": [
    {
     "data": {
      "text/html": [
       "<div>\n",
       "<style scoped>\n",
       "    .dataframe tbody tr th:only-of-type {\n",
       "        vertical-align: middle;\n",
       "    }\n",
       "\n",
       "    .dataframe tbody tr th {\n",
       "        vertical-align: top;\n",
       "    }\n",
       "\n",
       "    .dataframe thead th {\n",
       "        text-align: right;\n",
       "    }\n",
       "</style>\n",
       "<table border=\"1\" class=\"dataframe\">\n",
       "  <thead>\n",
       "    <tr style=\"text-align: right;\">\n",
       "      <th></th>\n",
       "      <th>loan_amnt</th>\n",
       "      <th>funded_amnt</th>\n",
       "      <th>funded_amnt_inv</th>\n",
       "      <th>term</th>\n",
       "      <th>int_rate</th>\n",
       "      <th>installment</th>\n",
       "      <th>grade</th>\n",
       "      <th>sub_grade</th>\n",
       "      <th>emp_length</th>\n",
       "      <th>home_ownership</th>\n",
       "      <th>...</th>\n",
       "      <th>revol_util</th>\n",
       "      <th>total_acc</th>\n",
       "      <th>initial_list_status</th>\n",
       "      <th>total_pymnt</th>\n",
       "      <th>total_pymnt_inv</th>\n",
       "      <th>total_rec_prncp</th>\n",
       "      <th>total_rec_int</th>\n",
       "      <th>last_pymnt_amnt</th>\n",
       "      <th>total_rev_hi_lim</th>\n",
       "      <th>loan_status_coded</th>\n",
       "    </tr>\n",
       "  </thead>\n",
       "  <tbody>\n",
       "    <tr>\n",
       "      <th>42538</th>\n",
       "      <td>12000.0</td>\n",
       "      <td>12000.0</td>\n",
       "      <td>12000.0</td>\n",
       "      <td>36 months</td>\n",
       "      <td>13.53</td>\n",
       "      <td>407.40</td>\n",
       "      <td>B</td>\n",
       "      <td>5</td>\n",
       "      <td>10+ years</td>\n",
       "      <td>RENT</td>\n",
       "      <td>...</td>\n",
       "      <td>68.8</td>\n",
       "      <td>32.0</td>\n",
       "      <td>w</td>\n",
       "      <td>13359.770000</td>\n",
       "      <td>13359.77</td>\n",
       "      <td>11999.99</td>\n",
       "      <td>1359.78</td>\n",
       "      <td>119.17</td>\n",
       "      <td>8100.0</td>\n",
       "      <td>1</td>\n",
       "    </tr>\n",
       "    <tr>\n",
       "      <th>42544</th>\n",
       "      <td>3000.0</td>\n",
       "      <td>3000.0</td>\n",
       "      <td>3000.0</td>\n",
       "      <td>36 months</td>\n",
       "      <td>12.85</td>\n",
       "      <td>100.87</td>\n",
       "      <td>B</td>\n",
       "      <td>4</td>\n",
       "      <td>10+ years</td>\n",
       "      <td>RENT</td>\n",
       "      <td>...</td>\n",
       "      <td>54.2</td>\n",
       "      <td>26.0</td>\n",
       "      <td>f</td>\n",
       "      <td>3181.532981</td>\n",
       "      <td>3181.53</td>\n",
       "      <td>3000.00</td>\n",
       "      <td>181.53</td>\n",
       "      <td>2677.23</td>\n",
       "      <td>5300.0</td>\n",
       "      <td>1</td>\n",
       "    </tr>\n",
       "    <tr>\n",
       "      <th>42546</th>\n",
       "      <td>28000.0</td>\n",
       "      <td>28000.0</td>\n",
       "      <td>28000.0</td>\n",
       "      <td>36 months</td>\n",
       "      <td>7.62</td>\n",
       "      <td>872.52</td>\n",
       "      <td>A</td>\n",
       "      <td>3</td>\n",
       "      <td>5 years</td>\n",
       "      <td>MORTGAGE</td>\n",
       "      <td>...</td>\n",
       "      <td>54.6</td>\n",
       "      <td>31.0</td>\n",
       "      <td>w</td>\n",
       "      <td>29150.980000</td>\n",
       "      <td>29150.98</td>\n",
       "      <td>28000.00</td>\n",
       "      <td>1150.98</td>\n",
       "      <td>23915.86</td>\n",
       "      <td>54200.0</td>\n",
       "      <td>1</td>\n",
       "    </tr>\n",
       "    <tr>\n",
       "      <th>42549</th>\n",
       "      <td>24000.0</td>\n",
       "      <td>24000.0</td>\n",
       "      <td>24000.0</td>\n",
       "      <td>36 months</td>\n",
       "      <td>13.53</td>\n",
       "      <td>814.80</td>\n",
       "      <td>B</td>\n",
       "      <td>5</td>\n",
       "      <td>10+ years</td>\n",
       "      <td>MORTGAGE</td>\n",
       "      <td>...</td>\n",
       "      <td>76.7</td>\n",
       "      <td>39.0</td>\n",
       "      <td>w</td>\n",
       "      <td>28652.210000</td>\n",
       "      <td>28652.21</td>\n",
       "      <td>24000.00</td>\n",
       "      <td>4652.21</td>\n",
       "      <td>10726.61</td>\n",
       "      <td>28200.0</td>\n",
       "      <td>1</td>\n",
       "    </tr>\n",
       "    <tr>\n",
       "      <th>42550</th>\n",
       "      <td>8000.0</td>\n",
       "      <td>8000.0</td>\n",
       "      <td>8000.0</td>\n",
       "      <td>36 months</td>\n",
       "      <td>10.99</td>\n",
       "      <td>261.88</td>\n",
       "      <td>B</td>\n",
       "      <td>2</td>\n",
       "      <td>2 years</td>\n",
       "      <td>MORTGAGE</td>\n",
       "      <td>...</td>\n",
       "      <td>34.6</td>\n",
       "      <td>16.0</td>\n",
       "      <td>f</td>\n",
       "      <td>4990.030000</td>\n",
       "      <td>4990.03</td>\n",
       "      <td>3854.81</td>\n",
       "      <td>1120.22</td>\n",
       "      <td>276.88</td>\n",
       "      <td>20800.0</td>\n",
       "      <td>0</td>\n",
       "    </tr>\n",
       "  </tbody>\n",
       "</table>\n",
       "<p>5 rows × 28 columns</p>\n",
       "</div>"
      ],
      "text/plain": [
       "       loan_amnt  funded_amnt  funded_amnt_inv        term  int_rate  \\\n",
       "42538    12000.0      12000.0          12000.0   36 months     13.53   \n",
       "42544     3000.0       3000.0           3000.0   36 months     12.85   \n",
       "42546    28000.0      28000.0          28000.0   36 months      7.62   \n",
       "42549    24000.0      24000.0          24000.0   36 months     13.53   \n",
       "42550     8000.0       8000.0           8000.0   36 months     10.99   \n",
       "\n",
       "       installment grade  sub_grade emp_length home_ownership  \\\n",
       "42538       407.40     B          5  10+ years           RENT   \n",
       "42544       100.87     B          4  10+ years           RENT   \n",
       "42546       872.52     A          3    5 years       MORTGAGE   \n",
       "42549       814.80     B          5  10+ years       MORTGAGE   \n",
       "42550       261.88     B          2    2 years       MORTGAGE   \n",
       "\n",
       "             ...          revol_util total_acc initial_list_status  \\\n",
       "42538        ...                68.8      32.0                   w   \n",
       "42544        ...                54.2      26.0                   f   \n",
       "42546        ...                54.6      31.0                   w   \n",
       "42549        ...                76.7      39.0                   w   \n",
       "42550        ...                34.6      16.0                   f   \n",
       "\n",
       "        total_pymnt  total_pymnt_inv  total_rec_prncp  total_rec_int  \\\n",
       "42538  13359.770000         13359.77         11999.99        1359.78   \n",
       "42544   3181.532981          3181.53          3000.00         181.53   \n",
       "42546  29150.980000         29150.98         28000.00        1150.98   \n",
       "42549  28652.210000         28652.21         24000.00        4652.21   \n",
       "42550   4990.030000          4990.03          3854.81        1120.22   \n",
       "\n",
       "       last_pymnt_amnt  total_rev_hi_lim  loan_status_coded  \n",
       "42538           119.17            8100.0                  1  \n",
       "42544          2677.23            5300.0                  1  \n",
       "42546         23915.86           54200.0                  1  \n",
       "42549         10726.61           28200.0                  1  \n",
       "42550           276.88           20800.0                  0  \n",
       "\n",
       "[5 rows x 28 columns]"
      ]
     },
     "execution_count": 140,
     "metadata": {},
     "output_type": "execute_result"
    }
   ],
   "source": [
    "loan.head()"
   ]
  },
  {
   "cell_type": "code",
   "execution_count": 141,
   "metadata": {},
   "outputs": [],
   "source": [
    "safe_loans = loan[loan[\"loan_status_coded\"] == 1]\n",
    "bad_loans = loan[loan[\"loan_status_coded\"] == 0]"
   ]
  },
  {
   "cell_type": "code",
   "execution_count": 142,
   "metadata": {},
   "outputs": [
    {
     "data": {
      "text/plain": [
       "loan_amnt              148065\n",
       "funded_amnt            148065\n",
       "funded_amnt_inv        148065\n",
       "term                   148065\n",
       "int_rate               148065\n",
       "installment            148065\n",
       "grade                  148065\n",
       "sub_grade              148065\n",
       "emp_length             148065\n",
       "home_ownership         148065\n",
       "annual_inc             148065\n",
       "verification_status    148065\n",
       "purpose                148065\n",
       "dti                    148065\n",
       "delinq_2yrs            148065\n",
       "inq_last_6mths         148065\n",
       "open_acc               148065\n",
       "revol_bal              148065\n",
       "revol_util             148065\n",
       "total_acc              148065\n",
       "initial_list_status    148065\n",
       "total_pymnt            148065\n",
       "total_pymnt_inv        148065\n",
       "total_rec_prncp        148065\n",
       "total_rec_int          148065\n",
       "last_pymnt_amnt        148065\n",
       "total_rev_hi_lim       148065\n",
       "loan_status_coded      148065\n",
       "dtype: int64"
      ]
     },
     "execution_count": 142,
     "metadata": {},
     "output_type": "execute_result"
    }
   ],
   "source": [
    "safe_loans.count()"
   ]
  },
  {
   "cell_type": "markdown",
   "metadata": {},
   "source": [
    "### Sampling safe loans for equal distribution"
   ]
  },
  {
   "cell_type": "code",
   "execution_count": 143,
   "metadata": {},
   "outputs": [],
   "source": [
    "percentage_safe_loans = round((len(bad_loans)/float(len(safe_loans)))*100)"
   ]
  },
  {
   "cell_type": "code",
   "execution_count": 144,
   "metadata": {},
   "outputs": [
    {
     "name": "stdout",
     "output_type": "stream",
     "text": [
      "36\n"
     ]
    }
   ],
   "source": [
    "print(percentage_safe_loans)"
   ]
  },
  {
   "cell_type": "code",
   "execution_count": 145,
   "metadata": {},
   "outputs": [],
   "source": [
    "safe_loans_sampled = safe_loans.sample(frac = 0.36, random_state= 1)"
   ]
  },
  {
   "cell_type": "code",
   "execution_count": 146,
   "metadata": {},
   "outputs": [],
   "source": [
    "loans_data = bad_loans.append(safe_loans_sampled)"
   ]
  },
  {
   "cell_type": "code",
   "execution_count": 147,
   "metadata": {},
   "outputs": [
    {
     "data": {
      "text/plain": [
       "loan_amnt              106425\n",
       "funded_amnt            106425\n",
       "funded_amnt_inv        106425\n",
       "term                   106425\n",
       "int_rate               106425\n",
       "installment            106425\n",
       "grade                  106425\n",
       "sub_grade              106425\n",
       "emp_length             106425\n",
       "home_ownership         106425\n",
       "annual_inc             106425\n",
       "verification_status    106425\n",
       "purpose                106425\n",
       "dti                    106425\n",
       "delinq_2yrs            106425\n",
       "inq_last_6mths         106425\n",
       "open_acc               106425\n",
       "revol_bal              106425\n",
       "revol_util             106425\n",
       "total_acc              106425\n",
       "initial_list_status    106425\n",
       "total_pymnt            106425\n",
       "total_pymnt_inv        106425\n",
       "total_rec_prncp        106425\n",
       "total_rec_int          106425\n",
       "last_pymnt_amnt        106425\n",
       "total_rev_hi_lim       106425\n",
       "loan_status_coded      106425\n",
       "dtype: int64"
      ]
     },
     "execution_count": 147,
     "metadata": {},
     "output_type": "execute_result"
    }
   ],
   "source": [
    "loans_data.count()"
   ]
  },
  {
   "cell_type": "code",
   "execution_count": 149,
   "metadata": {},
   "outputs": [],
   "source": [
    "features = ['loan_amnt', 'funded_amnt', 'funded_amnt_inv', 'term', 'int_rate',\n",
    "'installment', 'grade', 'sub_grade', 'emp_length', 'home_ownership',\n",
    "'annual_inc', 'verification_status', 'purpose', 'dti',\n",
    "'delinq_2yrs', 'inq_last_6mths', 'open_acc', 'revol_bal', 'revol_util',\n",
    "'total_acc', 'initial_list_status', 'total_pymnt', 'total_pymnt_inv',\n",
    "'total_rec_prncp', 'total_rec_int', 'last_pymnt_amnt',\n",
    "'total_rev_hi_lim', 'loan_status_coded']\n",
    "categorical = ['term', 'grade', 'emp_length', 'home_ownership', 'verification_status',\n",
    "'purpose', 'initial_list_status']"
   ]
  },
  {
   "cell_type": "code",
   "execution_count": 150,
   "metadata": {},
   "outputs": [],
   "source": [
    "loan = loans_data[features]"
   ]
  },
  {
   "cell_type": "code",
   "execution_count": 152,
   "metadata": {},
   "outputs": [
    {
     "name": "stdout",
     "output_type": "stream",
     "text": [
      "====================[Data Types]====================\n",
      "loan_amnt                              float64\n",
      "funded_amnt                            float64\n",
      "funded_amnt_inv                        float64\n",
      "int_rate                               float64\n",
      "installment                            float64\n",
      "sub_grade                                int64\n",
      "annual_inc                             float64\n",
      "dti                                    float64\n",
      "delinq_2yrs                            float64\n",
      "inq_last_6mths                         float64\n",
      "open_acc                               float64\n",
      "revol_bal                              float64\n",
      "revol_util                             float64\n",
      "total_acc                              float64\n",
      "total_pymnt                            float64\n",
      "total_pymnt_inv                        float64\n",
      "total_rec_prncp                        float64\n",
      "total_rec_int                          float64\n",
      "last_pymnt_amnt                        float64\n",
      "total_rev_hi_lim                       float64\n",
      "loan_status_coded                        int64\n",
      "term_ 36 months                          uint8\n",
      "term_ 60 months                          uint8\n",
      "grade_A                                  uint8\n",
      "grade_B                                  uint8\n",
      "grade_C                                  uint8\n",
      "grade_D                                  uint8\n",
      "grade_E                                  uint8\n",
      "grade_F                                  uint8\n",
      "grade_G                                  uint8\n",
      "                                        ...   \n",
      "emp_length_4 years                       uint8\n",
      "emp_length_5 years                       uint8\n",
      "emp_length_6 years                       uint8\n",
      "emp_length_7 years                       uint8\n",
      "emp_length_8 years                       uint8\n",
      "emp_length_9 years                       uint8\n",
      "emp_length_< 1 year                      uint8\n",
      "home_ownership_MORTGAGE                  uint8\n",
      "home_ownership_NONE                      uint8\n",
      "home_ownership_OTHER                     uint8\n",
      "home_ownership_OWN                       uint8\n",
      "home_ownership_RENT                      uint8\n",
      "verification_status_Not Verified         uint8\n",
      "verification_status_Source Verified      uint8\n",
      "verification_status_Verified             uint8\n",
      "purpose_car                              uint8\n",
      "purpose_credit_card                      uint8\n",
      "purpose_debt_consolidation               uint8\n",
      "purpose_home_improvement                 uint8\n",
      "purpose_house                            uint8\n",
      "purpose_major_purchase                   uint8\n",
      "purpose_medical                          uint8\n",
      "purpose_moving                           uint8\n",
      "purpose_other                            uint8\n",
      "purpose_renewable_energy                 uint8\n",
      "purpose_small_business                   uint8\n",
      "purpose_vacation                         uint8\n",
      "purpose_wedding                          uint8\n",
      "initial_list_status_f                    uint8\n",
      "initial_list_status_w                    uint8\n",
      "Length: 64, dtype: object\n"
     ]
    }
   ],
   "source": [
    "def one_hot_encoder(loan):\n",
    "    categorical_variables = categorical\n",
    "    loan_one_hot_encoded = pd.get_dummies(loan, columns=categorical_variables)\n",
    "    print(\"====================[Data Types]====================\")\n",
    "    print(loan_one_hot_encoded.dtypes)\n",
    "    return loan_one_hot_encoded\n",
    "loan_one_hot_encoded = one_hot_encoder(loan)"
   ]
  },
  {
   "cell_type": "code",
   "execution_count": 153,
   "metadata": {},
   "outputs": [
    {
     "data": {
      "text/html": [
       "<div>\n",
       "<style scoped>\n",
       "    .dataframe tbody tr th:only-of-type {\n",
       "        vertical-align: middle;\n",
       "    }\n",
       "\n",
       "    .dataframe tbody tr th {\n",
       "        vertical-align: top;\n",
       "    }\n",
       "\n",
       "    .dataframe thead th {\n",
       "        text-align: right;\n",
       "    }\n",
       "</style>\n",
       "<table border=\"1\" class=\"dataframe\">\n",
       "  <thead>\n",
       "    <tr style=\"text-align: right;\">\n",
       "      <th></th>\n",
       "      <th>loan_amnt</th>\n",
       "      <th>funded_amnt</th>\n",
       "      <th>funded_amnt_inv</th>\n",
       "      <th>int_rate</th>\n",
       "      <th>installment</th>\n",
       "      <th>sub_grade</th>\n",
       "      <th>annual_inc</th>\n",
       "      <th>dti</th>\n",
       "      <th>delinq_2yrs</th>\n",
       "      <th>inq_last_6mths</th>\n",
       "      <th>...</th>\n",
       "      <th>purpose_major_purchase</th>\n",
       "      <th>purpose_medical</th>\n",
       "      <th>purpose_moving</th>\n",
       "      <th>purpose_other</th>\n",
       "      <th>purpose_renewable_energy</th>\n",
       "      <th>purpose_small_business</th>\n",
       "      <th>purpose_vacation</th>\n",
       "      <th>purpose_wedding</th>\n",
       "      <th>initial_list_status_f</th>\n",
       "      <th>initial_list_status_w</th>\n",
       "    </tr>\n",
       "  </thead>\n",
       "  <tbody>\n",
       "    <tr>\n",
       "      <th>42550</th>\n",
       "      <td>8000.0</td>\n",
       "      <td>8000.0</td>\n",
       "      <td>8000.0</td>\n",
       "      <td>10.99</td>\n",
       "      <td>261.88</td>\n",
       "      <td>2</td>\n",
       "      <td>33000.0</td>\n",
       "      <td>15.75</td>\n",
       "      <td>0.0</td>\n",
       "      <td>1.0</td>\n",
       "      <td>...</td>\n",
       "      <td>0</td>\n",
       "      <td>0</td>\n",
       "      <td>0</td>\n",
       "      <td>0</td>\n",
       "      <td>0</td>\n",
       "      <td>0</td>\n",
       "      <td>0</td>\n",
       "      <td>0</td>\n",
       "      <td>1</td>\n",
       "      <td>0</td>\n",
       "    </tr>\n",
       "    <tr>\n",
       "      <th>42551</th>\n",
       "      <td>11500.0</td>\n",
       "      <td>11500.0</td>\n",
       "      <td>11500.0</td>\n",
       "      <td>22.90</td>\n",
       "      <td>323.54</td>\n",
       "      <td>4</td>\n",
       "      <td>32760.0</td>\n",
       "      <td>27.06</td>\n",
       "      <td>0.0</td>\n",
       "      <td>0.0</td>\n",
       "      <td>...</td>\n",
       "      <td>0</td>\n",
       "      <td>0</td>\n",
       "      <td>0</td>\n",
       "      <td>0</td>\n",
       "      <td>0</td>\n",
       "      <td>0</td>\n",
       "      <td>0</td>\n",
       "      <td>0</td>\n",
       "      <td>1</td>\n",
       "      <td>0</td>\n",
       "    </tr>\n",
       "    <tr>\n",
       "      <th>42563</th>\n",
       "      <td>10000.0</td>\n",
       "      <td>10000.0</td>\n",
       "      <td>10000.0</td>\n",
       "      <td>13.98</td>\n",
       "      <td>232.58</td>\n",
       "      <td>1</td>\n",
       "      <td>25000.0</td>\n",
       "      <td>27.03</td>\n",
       "      <td>0.0</td>\n",
       "      <td>0.0</td>\n",
       "      <td>...</td>\n",
       "      <td>0</td>\n",
       "      <td>0</td>\n",
       "      <td>0</td>\n",
       "      <td>0</td>\n",
       "      <td>0</td>\n",
       "      <td>0</td>\n",
       "      <td>0</td>\n",
       "      <td>0</td>\n",
       "      <td>1</td>\n",
       "      <td>0</td>\n",
       "    </tr>\n",
       "    <tr>\n",
       "      <th>42570</th>\n",
       "      <td>14825.0</td>\n",
       "      <td>14825.0</td>\n",
       "      <td>14825.0</td>\n",
       "      <td>18.25</td>\n",
       "      <td>537.83</td>\n",
       "      <td>3</td>\n",
       "      <td>175000.0</td>\n",
       "      <td>8.07</td>\n",
       "      <td>0.0</td>\n",
       "      <td>0.0</td>\n",
       "      <td>...</td>\n",
       "      <td>0</td>\n",
       "      <td>0</td>\n",
       "      <td>0</td>\n",
       "      <td>0</td>\n",
       "      <td>0</td>\n",
       "      <td>1</td>\n",
       "      <td>0</td>\n",
       "      <td>0</td>\n",
       "      <td>1</td>\n",
       "      <td>0</td>\n",
       "    </tr>\n",
       "    <tr>\n",
       "      <th>42593</th>\n",
       "      <td>15000.0</td>\n",
       "      <td>15000.0</td>\n",
       "      <td>15000.0</td>\n",
       "      <td>17.57</td>\n",
       "      <td>539.06</td>\n",
       "      <td>2</td>\n",
       "      <td>60000.0</td>\n",
       "      <td>3.68</td>\n",
       "      <td>0.0</td>\n",
       "      <td>0.0</td>\n",
       "      <td>...</td>\n",
       "      <td>0</td>\n",
       "      <td>0</td>\n",
       "      <td>0</td>\n",
       "      <td>1</td>\n",
       "      <td>0</td>\n",
       "      <td>0</td>\n",
       "      <td>0</td>\n",
       "      <td>0</td>\n",
       "      <td>1</td>\n",
       "      <td>0</td>\n",
       "    </tr>\n",
       "  </tbody>\n",
       "</table>\n",
       "<p>5 rows × 64 columns</p>\n",
       "</div>"
      ],
      "text/plain": [
       "       loan_amnt  funded_amnt  funded_amnt_inv  int_rate  installment  \\\n",
       "42550     8000.0       8000.0           8000.0     10.99       261.88   \n",
       "42551    11500.0      11500.0          11500.0     22.90       323.54   \n",
       "42563    10000.0      10000.0          10000.0     13.98       232.58   \n",
       "42570    14825.0      14825.0          14825.0     18.25       537.83   \n",
       "42593    15000.0      15000.0          15000.0     17.57       539.06   \n",
       "\n",
       "       sub_grade  annual_inc    dti  delinq_2yrs  inq_last_6mths  \\\n",
       "42550          2     33000.0  15.75          0.0             1.0   \n",
       "42551          4     32760.0  27.06          0.0             0.0   \n",
       "42563          1     25000.0  27.03          0.0             0.0   \n",
       "42570          3    175000.0   8.07          0.0             0.0   \n",
       "42593          2     60000.0   3.68          0.0             0.0   \n",
       "\n",
       "               ...            purpose_major_purchase  purpose_medical  \\\n",
       "42550          ...                                 0                0   \n",
       "42551          ...                                 0                0   \n",
       "42563          ...                                 0                0   \n",
       "42570          ...                                 0                0   \n",
       "42593          ...                                 0                0   \n",
       "\n",
       "       purpose_moving  purpose_other  purpose_renewable_energy  \\\n",
       "42550               0              0                         0   \n",
       "42551               0              0                         0   \n",
       "42563               0              0                         0   \n",
       "42570               0              0                         0   \n",
       "42593               0              1                         0   \n",
       "\n",
       "       purpose_small_business  purpose_vacation  purpose_wedding  \\\n",
       "42550                       0                 0                0   \n",
       "42551                       0                 0                0   \n",
       "42563                       0                 0                0   \n",
       "42570                       1                 0                0   \n",
       "42593                       0                 0                0   \n",
       "\n",
       "       initial_list_status_f  initial_list_status_w  \n",
       "42550                      1                      0  \n",
       "42551                      1                      0  \n",
       "42563                      1                      0  \n",
       "42570                      1                      0  \n",
       "42593                      1                      0  \n",
       "\n",
       "[5 rows x 64 columns]"
      ]
     },
     "execution_count": 153,
     "metadata": {},
     "output_type": "execute_result"
    }
   ],
   "source": [
    "loan_one_hot_encoded.head()"
   ]
  },
  {
   "cell_type": "markdown",
   "metadata": {},
   "source": [
    "### Train- Test Split"
   ]
  },
  {
   "cell_type": "code",
   "execution_count": 154,
   "metadata": {},
   "outputs": [],
   "source": [
    "from sklearn.model_selection import train_test_split\n",
    "# Train-Test split\n",
    "y = loan_one_hot_encoded.loan_status_coded\n",
    "X = loan_one_hot_encoded.drop(\"loan_status_coded\", axis=1)\n",
    "x_train, x_test, y_train, y_test = train_test_split(X, y, test_size=0.2,\n",
    "stratify=y)"
   ]
  },
  {
   "cell_type": "code",
   "execution_count": 155,
   "metadata": {},
   "outputs": [
    {
     "name": "stdout",
     "output_type": "stream",
     "text": [
      "Shape of x_train:  (85140, 63)\n",
      "Shape of y_train:  (85140,)\n",
      "Shape of x_test:  (21285, 63)\n",
      "Shape of y_test:  (21285,)\n"
     ]
    }
   ],
   "source": [
    "print(\"Shape of x_train: \", x_train.shape)\n",
    "print(\"Shape of y_train: \", y_train.shape)\n",
    "print(\"Shape of x_test: \", x_test.shape)\n",
    "print(\"Shape of y_test: \", y_test.shape)"
   ]
  },
  {
   "cell_type": "markdown",
   "metadata": {},
   "source": [
    "### Feature Scaling"
   ]
  },
  {
   "cell_type": "code",
   "execution_count": 156,
   "metadata": {},
   "outputs": [],
   "source": [
    "from sklearn.preprocessing import StandardScaler"
   ]
  },
  {
   "cell_type": "code",
   "execution_count": 157,
   "metadata": {},
   "outputs": [],
   "source": [
    "sr_X = StandardScaler()"
   ]
  },
  {
   "cell_type": "code",
   "execution_count": 158,
   "metadata": {},
   "outputs": [],
   "source": [
    "X_train = sr_X.fit_transform(x_train)"
   ]
  },
  {
   "cell_type": "code",
   "execution_count": 159,
   "metadata": {},
   "outputs": [],
   "source": [
    "X_test = sr_X.fit_transform(x_test)"
   ]
  },
  {
   "cell_type": "markdown",
   "metadata": {},
   "source": [
    "### Builiding Decisiontree classifier"
   ]
  },
  {
   "cell_type": "code",
   "execution_count": 160,
   "metadata": {},
   "outputs": [],
   "source": [
    "from sklearn.tree import DecisionTreeClassifier\n",
    "decision_tree_model= DecisionTreeClassifier()"
   ]
  },
  {
   "cell_type": "code",
   "execution_count": 161,
   "metadata": {},
   "outputs": [
    {
     "data": {
      "text/plain": [
       "DecisionTreeClassifier(class_weight=None, criterion='gini', max_depth=None,\n",
       "            max_features=None, max_leaf_nodes=None,\n",
       "            min_impurity_decrease=0.0, min_impurity_split=None,\n",
       "            min_samples_leaf=1, min_samples_split=2,\n",
       "            min_weight_fraction_leaf=0.0, presort=False, random_state=None,\n",
       "            splitter='best')"
      ]
     },
     "execution_count": 161,
     "metadata": {},
     "output_type": "execute_result"
    }
   ],
   "source": [
    "decision_tree_model.fit(X_train, y_train)"
   ]
  },
  {
   "cell_type": "markdown",
   "metadata": {},
   "source": [
    "#### Predictions"
   ]
  },
  {
   "cell_type": "code",
   "execution_count": 162,
   "metadata": {},
   "outputs": [],
   "source": [
    "pred =decision_tree_model.predict(X_test)"
   ]
  },
  {
   "cell_type": "markdown",
   "metadata": {},
   "source": [
    "### Evaluating the performance of the model"
   ]
  },
  {
   "cell_type": "code",
   "execution_count": 163,
   "metadata": {},
   "outputs": [
    {
     "data": {
      "text/plain": [
       "0.9847310312426591"
      ]
     },
     "execution_count": 163,
     "metadata": {},
     "output_type": "execute_result"
    }
   ],
   "source": [
    "decision_tree_model.score(X_test, y_test)"
   ]
  },
  {
   "cell_type": "markdown",
   "metadata": {},
   "source": [
    "This model classifies good and bad loans with an accuracy of 98.6 %"
   ]
  },
  {
   "cell_type": "code",
   "execution_count": 164,
   "metadata": {},
   "outputs": [],
   "source": [
    "from sklearn.metrics import confusion_matrix\n",
    "cf =confusion_matrix(y_test, pred)"
   ]
  },
  {
   "cell_type": "code",
   "execution_count": 165,
   "metadata": {},
   "outputs": [
    {
     "data": {
      "image/png": "[encoded data removed]",
      "text/plain": [
       "<Figure size 864x576 with 2 Axes>"
      ]
     },
     "metadata": {},
     "output_type": "display_data"
    }
   ],
   "source": [
    "# Plot normalized confusion matrix\n",
    "import matplotlib.cm as cm\n",
    "plt.figure(figsize=(12,8))\n",
    "sns.heatmap(cf, annot=True, linewidths=.5, cmap=cm.summer,xticklabels=[\n",
    "'bad','safe'], yticklabels=['bad','safe'])\n",
    "plt.ylabel('True label')\n",
    "plt.xlabel('Predicted label')\n",
    "plt.title(\"Confusion Matrix of Testset\")\n",
    "plt.show()"
   ]
  },
  {
   "cell_type": "code",
   "execution_count": null,
   "metadata": {},
   "outputs": [],
   "source": []
  }
 ],
 "metadata": {
  "kernelspec": {
   "display_name": "Python 3",
   "language": "python",
   "name": "python3"
  },
  "language_info": {
   "codemirror_mode": {
    "name": "ipython",
    "version": 3
   },
   "file_extension": ".py",
   "mimetype": "text/x-python",
   "name": "python",
   "nbconvert_exporter": "python",
   "pygments_lexer": "ipython3",
   "version": "3.6.5"
  }
 },
 "nbformat": 4,
 "nbformat_minor": 2
}
